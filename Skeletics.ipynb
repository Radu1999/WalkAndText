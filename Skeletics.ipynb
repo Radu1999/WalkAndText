{
 "cells": [
  {
   "cell_type": "code",
   "execution_count": 55,
   "id": "36d7a62d-4400-4a8a-a9b2-16fadcca3979",
   "metadata": {},
   "outputs": [],
   "source": [
    "from src.datasets.amass import AMASS\n",
    "import clip\n",
    "from src.datasets.get_dataset import get_datasets\n",
    "import torch\n",
    "from src.datasets.tools import condense_duplicates\n",
    "import numpy as np\n",
    "from src.utils.action_label_to_idx import action_label_to_idx\n",
    "import src.utils.fixseed  # noqa\n",
    "import numpy as np\n",
    "import pickle\n",
    "import csv\n",
    "import joblib\n",
    "from pympler import asizeof\n",
    "import matplotlib.pyplot as plt\n",
    "from mpl_toolkits.mplot3d import Axes3D\n",
    "from sympy import symbols, atan2, sqrt"
   ]
  },
  {
   "cell_type": "code",
   "execution_count": 44,
   "id": "15cecbb2-ab84-4853-af47-a407d3fe8bef",
   "metadata": {},
   "outputs": [],
   "source": [
    "def plot_openpose_joints_3d(joints):\n",
    "    \"\"\"\n",
    "    Plot OpenPose joints in a 18x3 format in 3D space.\n",
    "\n",
    "    Parameters:\n",
    "    - joints: Numpy array of shape (18, 3) representing 18 joints with (x, y, confidence) coordinates.\n",
    "    \"\"\"\n",
    "    fig = plt.figure(figsize=(10, 8))\n",
    "    ax = fig.add_subplot(111, projection='3d')\n",
    "\n",
    "    ax.scatter(joints[:, 0], joints[:, 1], joints[:, 2], c='r', marker='o') \n",
    "\n",
    "    for i, joint in enumerate(joints):\n",
    "        ax.text(joint[0], joint[1], joint[2], str(i + 1), color='b')\n",
    "\n",
    "    # Link joints with lines\n",
    "    connections = [\n",
    "    ]\n",
    "\n",
    "    for connection in connections:\n",
    "        ax.plot([joints[connection[0], 0], joints[connection[1], 0]],\n",
    "                [joints[connection[0], 1], joints[connection[1], 1]],\n",
    "                [joints[connection[0], 2], joints[connection[1], 2]], 'k-')\n",
    "\n",
    "    ax.set_xlabel('X-axis')\n",
    "    ax.set_ylabel('Y-axis')\n",
    "    ax.set_zlabel('Z-axis')\n",
    "    ax.set_title('OpenPose Joints in 3D')\n",
    "    plt.show()\n",
    "\n"
   ]
  },
  {
   "cell_type": "code",
   "execution_count": 25,
   "id": "5a2c0b53-7ddb-483f-95af-621f1d2f9f52",
   "metadata": {},
   "outputs": [],
   "source": [
    "# kskel_train_dataset = np.load('data/data/Kinetics/kinetics-skeleton/train_data.npy')\n",
    "kskel_val_dataset = np.load('data/data/Kinetics/kinetics-skeleton/val_data.npy')"
   ]
  },
  {
   "cell_type": "code",
   "execution_count": null,
   "id": "8a90b299-7a01-44e5-b6ee-bd812129fc11",
   "metadata": {},
   "outputs": [],
   "source": [
    "# tdset = torch.tensor(kskel_train_dataset)\n",
    "# print(tdset.size())"
   ]
  },
  {
   "cell_type": "code",
   "execution_count": null,
   "id": "d523717a-8ab7-442a-a7fc-7748630fbdd1",
   "metadata": {},
   "outputs": [],
   "source": [
    "# tdeset = tdset.permute(0, 2, 3, 1, 4)\n",
    "# print(tdeset.size())"
   ]
  },
  {
   "cell_type": "code",
   "execution_count": 10,
   "id": "80cd1cc3-9782-4c23-8e0f-3a6a8b538702",
   "metadata": {},
   "outputs": [
    {
     "name": "stdout",
     "output_type": "stream",
     "text": [
      "torch.Size([19796, 3, 300, 18, 2])\n"
     ]
    }
   ],
   "source": [
    "vdset = torch.tensor(kskel_val_dataset)\n",
    "print(vdset.size())"
   ]
  },
  {
   "cell_type": "code",
   "execution_count": 11,
   "id": "babb6269-eca1-4c0e-b6c2-cce2d2021f51",
   "metadata": {},
   "outputs": [
    {
     "name": "stdout",
     "output_type": "stream",
     "text": [
      "torch.Size([19796, 300, 18, 3, 2])\n"
     ]
    }
   ],
   "source": [
    "vdeset = vdset.permute(0, 2, 3, 1, 4)\n",
    "print(vdeset.size())\n"
   ]
  },
  {
   "cell_type": "code",
   "execution_count": 59,
   "id": "2672b9c6-82c1-4e32-8768-4b7e7a55f588",
   "metadata": {},
   "outputs": [
    {
     "name": "stdout",
     "output_type": "stream",
     "text": [
      "torch.Size([18, 3])\n"
     ]
    },
    {
     "ename": "TypeError",
     "evalue": "loop of ufunc does not support argument 0 of type Symbol which has no callable cos method",
     "output_type": "error",
     "traceback": [
      "\u001b[0;31m---------------------------------------------------------------------------\u001b[0m",
      "\u001b[0;31mAttributeError\u001b[0m                            Traceback (most recent call last)",
      "\u001b[0;31mAttributeError\u001b[0m: 'Symbol' object has no attribute 'cos'",
      "\nThe above exception was the direct cause of the following exception:\n",
      "\u001b[0;31mTypeError\u001b[0m                                 Traceback (most recent call last)",
      "Cell \u001b[0;32mIn[59], line 3\u001b[0m\n\u001b[1;32m      1\u001b[0m p1 \u001b[38;5;241m=\u001b[39m vdeset[\u001b[38;5;241m1\u001b[39m, \u001b[38;5;241m120\u001b[39m, :, :, \u001b[38;5;241m0\u001b[39m]\n\u001b[1;32m      2\u001b[0m \u001b[38;5;28mprint\u001b[39m(p1\u001b[38;5;241m.\u001b[39msize())\n\u001b[0;32m----> 3\u001b[0m \u001b[43mxyz_to_thetas\u001b[49m\u001b[43m(\u001b[49m\u001b[43mp1\u001b[49m\u001b[43m[\u001b[49m\u001b[38;5;241;43m0\u001b[39;49m\u001b[43m]\u001b[49m\u001b[43m[\u001b[49m\u001b[38;5;241;43m0\u001b[39;49m\u001b[43m]\u001b[49m\u001b[43m,\u001b[49m\u001b[43m \u001b[49m\u001b[43mp1\u001b[49m\u001b[43m[\u001b[49m\u001b[38;5;241;43m0\u001b[39;49m\u001b[43m]\u001b[49m\u001b[43m[\u001b[49m\u001b[38;5;241;43m1\u001b[39;49m\u001b[43m]\u001b[49m\u001b[43m,\u001b[49m\u001b[43m \u001b[49m\u001b[43mp1\u001b[49m\u001b[43m[\u001b[49m\u001b[38;5;241;43m0\u001b[39;49m\u001b[43m]\u001b[49m\u001b[43m[\u001b[49m\u001b[38;5;241;43m2\u001b[39;49m\u001b[43m]\u001b[49m\u001b[43m)\u001b[49m\n\u001b[1;32m      4\u001b[0m plot_openpose_joints_3d(p1)\n",
      "Cell \u001b[0;32mIn[56], line 14\u001b[0m, in \u001b[0;36mxyz_to_thetas\u001b[0;34m(x, y, z)\u001b[0m\n\u001b[1;32m     11\u001b[0m d3 \u001b[38;5;241m=\u001b[39m \u001b[38;5;241m0\u001b[39m  \u001b[38;5;66;03m# offset for joint 3\u001b[39;00m\n\u001b[1;32m     13\u001b[0m \u001b[38;5;66;03m# Forward kinematics equations\u001b[39;00m\n\u001b[0;32m---> 14\u001b[0m px \u001b[38;5;241m=\u001b[39m a1 \u001b[38;5;241m*\u001b[39m \u001b[43mnp\u001b[49m\u001b[38;5;241;43m.\u001b[39;49m\u001b[43mcos\u001b[49m\u001b[43m(\u001b[49m\u001b[43mtheta1\u001b[49m\u001b[43m)\u001b[49m \u001b[38;5;241m+\u001b[39m a2 \u001b[38;5;241m*\u001b[39m np\u001b[38;5;241m.\u001b[39mcos(theta1 \u001b[38;5;241m+\u001b[39m theta2) \u001b[38;5;241m+\u001b[39m a3 \u001b[38;5;241m*\u001b[39m np\u001b[38;5;241m.\u001b[39mcos(theta1 \u001b[38;5;241m+\u001b[39m theta2 \u001b[38;5;241m+\u001b[39m theta3)\n\u001b[1;32m     15\u001b[0m py \u001b[38;5;241m=\u001b[39m a1 \u001b[38;5;241m*\u001b[39m np\u001b[38;5;241m.\u001b[39msin(theta1) \u001b[38;5;241m+\u001b[39m a2 \u001b[38;5;241m*\u001b[39m np\u001b[38;5;241m.\u001b[39msin(theta1 \u001b[38;5;241m+\u001b[39m theta2) \u001b[38;5;241m+\u001b[39m a3 \u001b[38;5;241m*\u001b[39m np\u001b[38;5;241m.\u001b[39msin(theta1 \u001b[38;5;241m+\u001b[39m theta2 \u001b[38;5;241m+\u001b[39m theta3)\n\u001b[1;32m     16\u001b[0m pz \u001b[38;5;241m=\u001b[39m d1 \u001b[38;5;241m+\u001b[39m d2 \u001b[38;5;241m+\u001b[39m d3\n",
      "\u001b[0;31mTypeError\u001b[0m: loop of ufunc does not support argument 0 of type Symbol which has no callable cos method"
     ]
    }
   ],
   "source": [
    "p1 = vdeset[1, 120, :, :, 0]\n",
    "print(p1.size())\n",
    "xyz_to_thetas(p1[0][0], p1[0][1], p1[0][2])\n",
    "plot_openpose_joints_3d(p1)\n",
    "\n"
   ]
  },
  {
   "cell_type": "code",
   "execution_count": null,
   "id": "4b45edc8-2545-4901-9409-03aa06dd9baa",
   "metadata": {},
   "outputs": [],
   "source": []
  },
  {
   "cell_type": "code",
   "execution_count": null,
   "id": "f2a5d7a1-4ffa-4f7c-aead-7af16df5a9eb",
   "metadata": {},
   "outputs": [],
   "source": [
    "p1 = vdeset[:, :, :, :, 0]\n",
    "print(p1.size())"
   ]
  },
  {
   "cell_type": "code",
   "execution_count": null,
   "id": "468020e1-b925-421b-b26c-e04a79dc131a",
   "metadata": {},
   "outputs": [],
   "source": [
    "with open('data/kinetics_400_labels.csv', 'r') as file:\n",
    "    # Create a CSV reader object\n",
    "    csv_reader = csv.reader(file)\n",
    "    mapping = list(csv_reader)\n",
    "\n",
    "print([item[1] for item in mapping[1:]])"
   ]
  },
  {
   "cell_type": "code",
   "execution_count": 2,
   "id": "bf181d32-34d9-491d-9a51-835d62cdc925",
   "metadata": {},
   "outputs": [],
   "source": [
    "def create_db(dataset, split=\"train\"):\n",
    "    with open(f'data/data/Kinetics/kinetics-skeleton/{split}_label.pkl', 'rb') as f:\n",
    "        labels = pickle.load(f)\n",
    "    db = {\n",
    "        'joints3d': [],\n",
    "        #'action_cat': [],\n",
    "        'clip_text': [],\n",
    "    }\n",
    "    for (idx, entry) in enumerate(tdeset):\n",
    "        p1 = entry[:, :, :, 0]\n",
    "        p2 = entry[:, :, :, 1]\n",
    "        db['joints3d'].append(p1)\n",
    "        # db['joints3d'].append(p2)\n",
    "        # db['action_cat'].append(mapping[labels[1][idx] + 1][1])\n",
    "        # db['action_cat'].append(mapping[labels[1][idx] + 1][1])\n",
    "        # db['clip_text'].append(mapping[labels[1][idx] + 1][1])\n",
    "        db['clip_text'].append(mapping[labels[1][idx] + 1][1])\n",
    "        if idx == 10:\n",
    "            break\n",
    "    return db\n",
    "    "
   ]
  },
  {
   "cell_type": "code",
   "execution_count": null,
   "id": "f38338b6-5157-4f05-a422-10c574aa6786",
   "metadata": {},
   "outputs": [],
   "source": [
    "db = create_db(tdeset)"
   ]
  },
  {
   "cell_type": "code",
   "execution_count": null,
   "id": "efc0d852-0fbe-41c6-80a8-5decef1d8842",
   "metadata": {},
   "outputs": [],
   "source": [
    "asizeof.asizeof(db)"
   ]
  },
  {
   "cell_type": "code",
   "execution_count": null,
   "id": "a12cb101-cb32-4829-bf4b-ba7d048b2dc8",
   "metadata": {},
   "outputs": [],
   "source": [
    "print(db['clip_text'][9])\n",
    "print(len(db['clip_text']))"
   ]
  },
  {
   "cell_type": "code",
   "execution_count": null,
   "id": "52825c4a-6b91-441b-84a3-526a48236b90",
   "metadata": {},
   "outputs": [],
   "source": [
    "joblib.dump(db, f'./data/kinetics/kinetics_train.pt')"
   ]
  },
  {
   "cell_type": "code",
   "execution_count": null,
   "id": "1e226397-3a9a-421c-919f-e06efe0d340c",
   "metadata": {},
   "outputs": [],
   "source": [
    "print(len(db['action_cat']))\n",
    "print(len(tdeset))"
   ]
  },
  {
   "cell_type": "code",
   "execution_count": null,
   "id": "4dddca50-8e60-45f9-8451-166ae42b5197",
   "metadata": {},
   "outputs": [],
   "source": []
  }
 ],
 "metadata": {
  "kernelspec": {
   "display_name": "firstEnv",
   "language": "python",
   "name": "firstenv"
  },
  "language_info": {
   "codemirror_mode": {
    "name": "ipython",
    "version": 3
   },
   "file_extension": ".py",
   "mimetype": "text/x-python",
   "name": "python",
   "nbconvert_exporter": "python",
   "pygments_lexer": "ipython3",
   "version": "3.8.11"
  }
 },
 "nbformat": 4,
 "nbformat_minor": 5
}
