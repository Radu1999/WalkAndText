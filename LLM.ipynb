{
 "cells": [
  {
   "cell_type": "code",
   "execution_count": 1,
   "id": "40107129-0c90-4bdb-bf61-3e79eebc3be4",
   "metadata": {},
   "outputs": [],
   "source": [
    "%load_ext autoreload\n",
    "%autoreload 2"
   ]
  },
  {
   "cell_type": "code",
   "execution_count": null,
   "id": "8572dacc-873e-4fc2-ab31-f983de83822a",
   "metadata": {},
   "outputs": [],
   "source": [
    "from src.datasets.amass import AMASS\n",
    "import clip\n",
    "from src.datasets.get_dataset import get_datasets\n",
    "from src.utils.get_model_and_data import get_model_and_data\n",
    "import torch\n",
    "import os\n",
    "from src.utils.tensors import collate\n",
    "from src.datasets.tools import condense_duplicates\n",
    "import numpy as np\n",
    "from src.utils.action_label_to_idx import action_label_to_idx\n",
    "import src.utils.fixseed  # noqa\n",
    "from src.utils.misc import load_model_wo_clip"
   ]
  },
  {
   "cell_type": "code",
   "execution_count": null,
   "id": "a6fab4fc-e8f0-4f57-a1b6-223a16531c0c",
   "metadata": {},
   "outputs": [],
   "source": [
    "parameters = {\n",
    "    'expname': 'exps',\n",
    "    'folder': './exps/clip',\n",
    "    'cuda': True,\n",
    "    'device': torch.device(type='cuda', index=0),\n",
    "    'batch_size': 80,\n",
    "    'num_epochs': 500,\n",
    "    'lr': 0.0002,\n",
    "    'snapshot': 20,\n",
    "    'dataset': 'babel',\n",
    "    'datapath': './data/babel_30fps_db.pt',\n",
    "    'num_frames': 60,\n",
    "    'sampling': 'conseq',\n",
    "    'sampling_step': 1,\n",
    "    'pose_rep': 'rot6d',\n",
    "    'max_len': -1,\n",
    "    'min_len': -1,\n",
    "    'num_seq_max': -1,\n",
    "    'glob': True,\n",
    "    'glob_rot': [3.141592653589793, 0, 0],\n",
    "    'translation': True,\n",
    "    'debug': False,\n",
    "    'use_action_cat_as_text_labels': True,\n",
    "    #'only_60_classes': True,\n",
    "    'use_only_15_classes': False,\n",
    "    'modelname': 'motionclip_transformer_rc_rcxyz_vel',\n",
    "    'latent_dim': 768,\n",
    "    'lambda_rc': 95.0,\n",
    "    'lambda_rcxyz': 95.0,\n",
    "    'lambda_vel': 95.0,\n",
    "    'lambda_velxyz': 1.0,\n",
    "    'jointstype': 'vertices',\n",
    "    'vertstrans': False,\n",
    "    'num_layers': 8,\n",
    "    'activation': 'gelu',\n",
    "    'clip_image_losses': ['cosine'],\n",
    "    'clip_text_losses': ['cosine'],\n",
    "    'clip_lambda_mse': 1.0,\n",
    "    'clip_lambda_ce': 1.0,\n",
    "    'clip_lambda_cosine': 1.0,\n",
    "    'clip_training': '',\n",
    "    'clip_layers': 12,\n",
    "    'modeltype': 'motionclip',\n",
    "    'archiname': 'transformer',\n",
    "    'losses': ['rc', 'rcxyz', 'vel'],\n",
    "    'lambdas': {'rc': 95.0, 'rcxyz': 95.0, 'vel': 95.0},\n",
    "    'clip_lambdas': {'image': {'cosine': 1.0}, 'text': {'cosine': 1.0}},\n",
    "    'num_classes': 1,\n",
    "    'nfeats': 6,\n",
    "    'njoints': 25,\n",
    "    'outputxyz': True\n",
    "}"
   ]
  },
  {
   "cell_type": "code",
   "execution_count": null,
   "id": "a7965785-ec89-4ad9-a8f8-75b337b538ba",
   "metadata": {},
   "outputs": [],
   "source": [
    "model, datasets = get_model_and_data(parameters, split=\"train\")\n",
    "\n",
    "print(\"Restore weights..\")\n",
    "checkpointpath = os.path.join('./exps/final_archi', 'checkpoint_cap_0207.pth.tar')\n",
    "state_dict = torch.load(checkpointpath, map_location=parameters[\"device\"])\n",
    "load_model_wo_clip(model, state_dict)\n",
    "model.eval()\n",
    "dataset = datasets['train']"
   ]
  },
  {
   "cell_type": "code",
   "execution_count": null,
   "id": "1919427a-e474-4f5f-8ee8-a1f3f69fbfc5",
   "metadata": {},
   "outputs": [],
   "source": [
    "freq = {}\n",
    "for entry in dataset:\n",
    "    if entry == None:\n",
    "        continue\n",
    "    for cat in entry['all_categories']:\n",
    "        if cat in freq:\n",
    "            freq[cat] += 1\n",
    "        else:\n",
    "            freq[cat] = 1"
   ]
  },
  {
   "cell_type": "code",
   "execution_count": null,
   "id": "53b4b778-4b5e-4d58-bf43-a0943ec06cc7",
   "metadata": {},
   "outputs": [],
   "source": [
    "lots = [(l[0], action_label_to_idx[l[0]]) for l in sorted(freq.items(), key=lambda x: -x[1])]\n",
    "print([f'{l[0]}: {l[1]}' for l in lots if l[1] < 60])"
   ]
  },
  {
   "cell_type": "code",
   "execution_count": null,
   "id": "ce72bb50-4d7e-445a-b018-271d90b9b808",
   "metadata": {},
   "outputs": [],
   "source": [
    "print(lots)"
   ]
  },
  {
   "cell_type": "code",
   "execution_count": null,
   "id": "17b46d2c-8e77-4248-8d6d-fae6fe6a16d6",
   "metadata": {},
   "outputs": [],
   "source": [
    "from torchvision import datasets, transforms\n",
    "from torch.utils.data import DataLoader\n",
    "from sklearn.manifold import TSNE\n",
    "import random\n",
    "import matplotlib.pyplot as plt\n",
    "\n",
    "transform = transforms.Compose([transforms.ToTensor()])\n",
    "dataloader = DataLoader(dataset, batch_size=64, shuffle=False, collate_fn=collate)\n",
    "\n",
    "# Set the model to evaluation mode\n",
    "model.eval()\n",
    "\n",
    "# Initialize lists to store embeddings and labels\n",
    "embeddings_list = []\n",
    "labels_list = []\n",
    "\n",
    "# Extract embeddings from the model\n",
    "with torch.no_grad():\n",
    "    for batch in dataloader:\n",
    "        if batch is None:\n",
    "            continue\n",
    "        batch = {key: val.to(torch.device('cuda')) if torch.is_tensor(val) and key != 'mask' and key != 'y'  else val for key, val in batch.items()}    \n",
    "        outputs = model.encode_motion(batch)\n",
    "        \n",
    "        embeddings_list.extend(outputs.cpu().numpy())\n",
    "        labels = [action_label_to_idx[random.choice(list(set(lbls) & set(lots))) if len(list(set(lbls) & set(lots))) else \"take/pick something up\"] for lbls in batch['all_categories']]\n",
    "        labels_list.extend(labels)\n",
    "\n",
    "\n",
    "\n"
   ]
  },
  {
   "cell_type": "code",
   "execution_count": null,
   "id": "628d3c08-26d6-477a-a842-20f5114bf368",
   "metadata": {},
   "outputs": [],
   "source": [
    "# Concatenate the lists to obtain the final embeddings and labels\n",
    "embeddings = np.array([emb for (idx, emb) in enumerate(embeddings_list) if labels_list[idx] < 20])\n",
    "labels = np.array([l for l in labels_list if l < 20])"
   ]
  },
  {
   "cell_type": "code",
   "execution_count": null,
   "id": "5763108a-f6c4-49e9-9d29-419ba2d2b9d9",
   "metadata": {},
   "outputs": [],
   "source": [
    "import joblib"
   ]
  },
  {
   "cell_type": "code",
   "execution_count": null,
   "id": "8a6f6b16-f598-403f-b528-0b566016f60c",
   "metadata": {},
   "outputs": [],
   "source": [
    "l2gen_mist = joblib.load('label_mapping_mistral.pt')\n",
    "print(l2gen_mist.keys())\n",
    "\n",
    "l2gengpt4 = joblib.load('label_mapping.pt')"
   ]
  },
  {
   "cell_type": "code",
   "execution_count": null,
   "id": "2901dd8e-3e76-4e49-82f7-11f753e82172",
   "metadata": {},
   "outputs": [],
   "source": [
    "#print(l2gen_mist['run'])\n",
    "print(l2gengpt4['grab body part'])"
   ]
  },
  {
   "cell_type": "code",
   "execution_count": null,
   "id": "6e96d855-7eac-401e-a80e-2e69860cd5e2",
   "metadata": {},
   "outputs": [],
   "source": [
    "print(l2gen)"
   ]
  },
  {
   "cell_type": "code",
   "execution_count": null,
   "id": "82fe1d7b-67c5-4c0a-8d3a-b09aec9a995a",
   "metadata": {},
   "outputs": [],
   "source": [
    "# ground_truth = list(action_label_to_idx.keys())[:60]\n",
    "# #embeddings = model.encode_text([l2gen[label] for label in ground_truth[:60]])\n",
    "# embeddings = np.array(model.encode_text(l2gen[label] for label in ground_truth[:60]]).cpu().numpy())\n",
    "# labels = np.array(list(range(60)))"
   ]
  },
  {
   "cell_type": "code",
   "execution_count": null,
   "id": "fd2c1558-696b-4b4f-9a65-f712b4258467",
   "metadata": {},
   "outputs": [],
   "source": [
    "import umap"
   ]
  },
  {
   "cell_type": "code",
   "execution_count": null,
   "id": "5997dc31-54fa-460f-8e1a-eb15a53dc744",
   "metadata": {},
   "outputs": [],
   "source": [
    "# Apply t-SNE to reduce the dimensionality of embeddings\n",
    "tsne = umap.UMAP(n_components=2, random_state=42)\n",
    "embeddings_tsne = tsne.fit_transform(embeddings)"
   ]
  },
  {
   "cell_type": "code",
   "execution_count": null,
   "id": "95b68c0c-4418-4fa2-8ab2-d87c1045e580",
   "metadata": {},
   "outputs": [],
   "source": [
    "# Plot the t-SNE embeddings\n",
    "plt.figure(figsize=(11, 10))\n",
    "unique_labels = np.unique(labels)\n",
    "label_names = {label: f\"brosadasdasddas\" for label in unique_labels}\n",
    "\n",
    "# for i, label in enumerate(range(len(embeddings))):\n",
    "#     plt.annotate('\\n'.join(ground_truth[label].split(' ')), (embeddings_tsne[i, 0], embeddings_tsne[i, 1]), fontsize=10)\n",
    "scatter = plt.scatter(embeddings_tsne[:, 0], embeddings_tsne[:, 1], c=labels,s=1, cmap=\"tab20\")\n",
    "plt.title('Learned latent space for poses', fontsize=18)\n",
    "cbar = plt.colorbar(scatter, ticks=np.unique(range(20)))\n",
    "cbar.set_ticklabels([lots[i] for i in np.unique(range(20))])\n",
    "cbar.ax.tick_params(labelsize=18)\n",
    "plt.savefig('memb_cap.png', bbox_inches = 'tight')\n",
    "plt.show()"
   ]
  },
  {
   "cell_type": "code",
   "execution_count": null,
   "id": "0f66bf8b-811c-42a3-9293-e2de4813efd5",
   "metadata": {},
   "outputs": [],
   "source": [
    "train_dataset = get_datasets(parameters=parameters, split='train')['train']\n",
    "#val_dataset = get_datasets(parameters=parameters, split='vald')['test']"
   ]
  },
  {
   "cell_type": "code",
   "execution_count": null,
   "id": "d57757e5-d6c6-4a15-866a-573bcf01f41e",
   "metadata": {},
   "outputs": [],
   "source": []
  },
  {
   "cell_type": "code",
   "execution_count": null,
   "id": "ee6d81ac-0ab7-4aec-9426-e458452bdd45",
   "metadata": {},
   "outputs": [],
   "source": [
    "print(len(train_dataset))"
   ]
  },
  {
   "cell_type": "code",
   "execution_count": null,
   "id": "8160e38e-861c-4b04-b14c-f197ab949bca",
   "metadata": {},
   "outputs": [],
   "source": [
    "print(freq)"
   ]
  },
  {
   "cell_type": "code",
   "execution_count": null,
   "id": "1a317220-a75a-4ddc-b4dd-c3a57ea974b6",
   "metadata": {},
   "outputs": [],
   "source": [
    "import joblib\n",
    "joblib.dump(freq, 'freq.pt')"
   ]
  },
  {
   "cell_type": "code",
   "execution_count": null,
   "id": "14519911-2683-463d-bfe4-1d232e581709",
   "metadata": {},
   "outputs": [],
   "source": [
    "lots = [l[0] for l in sorted(freq.items(), key=lambda x: -x[1])]\n",
    "lots = lots[:20]"
   ]
  },
  {
   "cell_type": "code",
   "execution_count": null,
   "id": "0e157b58-c18d-4277-9852-899c497399d8",
   "metadata": {},
   "outputs": [],
   "source": []
  },
  {
   "cell_type": "code",
   "execution_count": null,
   "id": "2889b8d8-4014-4a3a-8d15-32bb16e2541e",
   "metadata": {},
   "outputs": [],
   "source": [
    "print(train_dataset.__getitem__(100))"
   ]
  },
  {
   "cell_type": "code",
   "execution_count": null,
   "id": "fc8f83b5-6f09-41e2-875a-63609f28dd98",
   "metadata": {},
   "outputs": [],
   "source": [
    "db = train_dataset.load_db()"
   ]
  },
  {
   "cell_type": "code",
   "execution_count": null,
   "id": "e16ab624-a3bc-4fd8-b12c-415be857993a",
   "metadata": {},
   "outputs": [],
   "source": [
    "print(db['clip_text'][100])\n",
    "print(db['action_cat'][100])"
   ]
  },
  {
   "cell_type": "code",
   "execution_count": null,
   "id": "29e2b489-b614-4b2d-9b71-d3b8213a4cdf",
   "metadata": {},
   "outputs": [],
   "source": [
    "l2gen = {}\n",
    "\n",
    "for idx in range(len(db['action_cat'])):\n",
    "    unique_cats = np.unique(db['action_cat'][idx])\n",
    "    cats = []\n",
    "    for cat in unique_cats:\n",
    "        if cat not in action_label_to_idx.keys():\n",
    "            continue\n",
    "        cat_idx = action_label_to_idx[cat]\n",
    "        if cat_idx >= 60:\n",
    "            continue\n",
    "        cats.append(cat)\n",
    "    for (i, cat) in enumerate(cats):\n",
    "        if cat in l2gen:\n",
    "            l2gen[cat].append(db['clip_text'][idx][i])\n",
    "        else:\n",
    "            l2gen[cat] = [db['clip_text'][idx][i]]\n",
    "\n"
   ]
  },
  {
   "cell_type": "code",
   "execution_count": null,
   "id": "6e9741b0-9b95-4f17-9ea2-38051b5070bd",
   "metadata": {},
   "outputs": [],
   "source": [
    "import joblib\n",
    "joblib.dump(l2gen, 'label_mapping_multiple.pt')"
   ]
  },
  {
   "cell_type": "code",
   "execution_count": null,
   "id": "cbf89e8f-665e-44f9-9cbe-793682f14f54",
   "metadata": {},
   "outputs": [],
   "source": [
    "print(l2gen['walk'])"
   ]
  },
  {
   "cell_type": "code",
   "execution_count": null,
   "id": "bbb144f2-f4b1-4292-99bf-204e67e40f09",
   "metadata": {},
   "outputs": [],
   "source": [
    "print([key for key in list(action_label_to_idx.keys())[:60] if key not in l2gen.keys()] )"
   ]
  },
  {
   "cell_type": "code",
   "execution_count": null,
   "id": "08945445-291a-44db-9adf-4fd775090594",
   "metadata": {},
   "outputs": [],
   "source": [
    "paraphrasings = [\n",
    "    \"Elaborate on the bodily gestures of an individual executing the task: {}.\",\n",
    "    \"Provide a detailed account of the physical movements exhibited by someone engaged in the action: {}.\",\n",
    "    \"Explain thoroughly the body language of a person carrying out the specified activity: {}.\",\n",
    "    \"Describe in depth the movements of a person's body while performing the action: {}.\",\n",
    "    \"Articulate the intricate details of the physical gestures made by someone who is involved in {}.\",\n",
    "    \"Offer a comprehensive depiction of the bodily actions of an individual executing the given task: {}.\",\n",
    "    \"Narrate the specific body movements of a person undertaking the action: {}.\",\n",
    "    \"Delve into the nuanced details of how a person's body moves during the performance of {}.\",\n",
    "    \"Illustrate the intricate physical expressions of an individual carrying out the task: {}.\",\n",
    "    \"Provide a detailed portrayal of the bodily maneuvers of someone participating in the action: {}.\",\n",
    "    \"Elucidate the detailed body language exhibited by a person while engaged in the activity: {}.\",\n",
    "    \"Examine closely the specific physical actions of a person performing the task: {}.\",\n",
    "    \"Offer a thorough description of the body movements demonstrated by an individual involved in {}.\",\n",
    "    \"Explain in detail the bodily expressions of a person executing the specified action: {}.\",\n",
    "    \"Describe meticulously the physical actions undertaken by someone performing the task: {}.\",\n",
    "    \"Present a detailed account of the body movements of an individual engaged in the action: {}.\",\n",
    "    \"Articulate the specific physical gestures made by someone undertaking the task: {}.\",\n",
    "    \"Narrate the intricate details of a person's body movements while performing the action: {}.\",\n",
    "    \"Delve into the specifics of the bodily actions of an individual executing the given task: {}.\",\n",
    "    \"Illustrate the nuanced body language displayed by a person participating in {}.\",\n",
    "    \"Provide a comprehensive description of the bodily maneuvers of someone involved in the action: {}.\",\n",
    "    \"Elucidate the detailed body language expressed by a person while carrying out the activity: {}.\",\n",
    "    \"Examine closely the specific physical movements of a person performing {}.\",\n",
    "    \"Offer a thorough account of the body gestures exhibited by an individual engaged in the action: {}.\",\n",
    "    \"Explain in detail the physical actions of a person executing the specified task: {}.\",\n",
    "    \"Describe meticulously the body movements demonstrated by someone involved in the action: {}.\",\n",
    "    \"Present a detailed portrayal of the specific physical expressions of an individual performing {}.\",\n",
    "    \"Articulate the nuanced details of the bodily maneuvers displayed by someone participating in the task: {}.\",\n",
    "    \"Narrate the intricate specifics of a person's body language while performing the action: {}.\",\n",
    "    \"Delve into the specifics of the physical actions undertaken by an individual executing the given task: {}.\",\n",
    "    \"Illustrate the comprehensive body language exhibited by a person participating in {}.\",\n",
    "    \"Provide a detailed depiction of the bodily gestures of someone involved in the action: {}.\",\n",
    "    \"Elucidate the nuanced body language expressed by a person while carrying out the task: {}.\",\n",
    "    \"Examine closely the specific physical movements of a person performing the action: {}.\",\n",
    "    \"Offer a thorough account of the body language displayed by an individual engaged in the task: {}.\",\n",
    "    \"Explain in detail the bodily actions of a person executing the specified {}.\",\n",
    "    \"Describe meticulously the body movements demonstrated by someone performing the action: {}.\",\n",
    "    \"Present a detailed portrayal of the specific physical maneuvers of an individual involved in {}.\",\n",
    "    \"Articulate the nuanced details of the bodily expressions displayed by someone participating in the action: {}.\",\n",
    "    \"Narrate the intricate specifics of a person's physical movements while performing the task: {}.\",\n",
    "    \"Delve into the specifics of the body language exhibited by an individual executing the given action: {}.\",\n",
    "    \"Illustrate the comprehensive physical actions of a person participating in {}.\",\n",
    "    \"Provide a detailed description of the bodily gestures displayed by someone involved in the task: {}.\",\n",
    "    \"Elucidate the nuanced body language expressed by a person while carrying out the specified action: {}.\",\n",
    "    \"Examine closely the specific physical movements of a person performing the {}.\",\n",
    "    \"Offer a thorough account of the body language exhibited by an individual engaged in the specified task: {}.\",\n",
    "    \"Explain in detail the bodily actions of a person executing the given action: {}.\",\n",
    "    \"Describe meticulously the body movements demonstrated by someone involved in the specified task: {}.\",\n",
    "    \"Present a detailed portrayal of the specific physical expressions of an individual performing the action: {}.\",\n",
    "    \"Articulate the nuanced details of the bodily maneuvers displayed by someone participating in the specified task: {}.\",\n",
    "    \"Narrate the intricate specifics of a person's body language while performing the given action: {}.\",\n",
    "    \"Delve into the specifics of the physical actions undertaken by an individual executing the action: {}.\",\n",
    "    \"Illustrate the comprehensive body language exhibited by a person participating in the specified task: {}.\",\n",
    "    \"Provide a detailed depiction of the bodily gestures of someone involved in the specified action: {}.\",\n",
    "    \"Elucidate the nuanced body language expressed by a person while carrying out the given task: {}.\",\n",
    "    \"Examine closely the specific physical movements of a person performing the specified action: {}.\",\n",
    "    \"Offer a thorough account of the body language displayed by an individual engaged in the specified task: {}.\",\n",
    "    \"Explain in detail the bodily actions of a person executing the given task: {}.\",\n",
    "    \"Describe meticulously the body movements demonstrated by someone involved in the given action: {}.\",\n",
    "    \"Present a detailed portrayal of the specific physical expressions of an individual performing the specified task: {}.\",\n",
    "    \"Articulate the nuanced details of the bodily maneuvers displayed by someone participating in the given action: {}.\",\n",
    "    \"Narrate the intricate specifics of a person's body language while performing the specified task: {}.\",\n",
    "    \"Delve into the specifics of the physical actions undertaken by an individual executing the given action: {}.\",\n",
    "    \"Illustrate the comprehensive body language exhibited by a person participating in the given task: {}.\",\n",
    "    \"Provide a detailed depiction of the bodily gestures of someone involved in the given action: {}.\",\n",
    "    \"Elucidate the nuanced body language expressed by a person while carrying out the specified task: {}.\",\n",
    "    \"Examine closely the specific physical movements of a person performing the given action: {}.\",\n",
    "    \"Offer a thorough account of the body language displayed by an individual engaged in the specified action: {}.\",\n",
    "    \"Explain in detail the bodily actions of a person executing the specified task: {}.\",\n",
    "    \"Describe meticulously the body movements demonstrated by someone involved in the specified task: {}.\",\n",
    "    \"Present a detailed portrayal of the specific physical expressions of an individual performing the specified action: {}.\",\n",
    "    \"Articulate the nuanced details of the bodily maneuvers displayed by someone participating in the specified task: {}.\",\n",
    "    \"Narrate the intricate specifics of a person's body language while performing the specified action: {}.\",\n",
    "    \"Delve into the specifics of the physical actions undertaken by an individual executing the specified action: {}.\",\n",
    "    \"Illustrate the comprehensive body language exhibited by a person participating in the specified task: {}.\",\n",
    "    \"Provide a detailed depiction of the bodily gestures of someone involved in the specified action: {}.\",\n",
    "    \"Elucidate the nuanced body language expressed by a person while carrying out the specified task: {}.\",\n",
    "    \"Examine closely the specific physical movements of a person performing the specified action: {}.\",\n",
    "    \"Offer a thorough account of the body language displayed by an individual engaged in the specified task: {}.\",\n",
    "    \"Explain in detail the bodily actions of a person executing the specified task: {}.\",\n",
    "    \"Describe meticulously the body movements demonstrated by someone involved in the specified action: {}.\",\n",
    "    \"Present a detailed portrayal of the specific physical expressions of an individual performing the specified task: {}.\",\n",
    "    \"Articulate the nuanced details of the bodily maneuvers displayed by someone participating in the specified task: {}.\",\n",
    "    \"Narrate the intricate specifics of a person's body language while performing the specified task: {}.\",\n",
    "    \"Delve into the specifics of the physical actions undertaken by an individual executing the specified action: {}.\",\n",
    "    \"Illustrate the comprehensive body language exhibited by a person participating in the specified task: {}.\",\n",
    "    \"Provide a detailed depiction of the bodily gestures of someone involved in the specified action: {}.\",\n",
    "    \"Elucidate the nuanced body language expressed by a person while carrying out the specified task: {}.\",\n",
    "    \"Examine closely the specific physical movements of a person performing the specified action: {}.\",\n",
    "    \"Offer a thorough account of the body language displayed by an individual engaged in the specified task: {}.\",\n",
    "    \"Explain in detail the bodily actions of a person executing the specified task: {}.\",\n",
    "    \"Describe meticulously the body movements demonstrated by someone involved in the specified action: {}.\",\n",
    "    \"Present a detailed portrayal of the specific physical expressions of an individual performing the specified task: {}.\",\n",
    "    \"Articulate the nuanced details of the bodily maneuvers displayed by someone participating in the specified task: {}.\",\n",
    "    \"Narrate the intricate specifics of a person's body language while performing the specified task: {}.\",\n",
    "    \"Delve into the specifics of the physical actions undertaken by an individual executing the specified action: {}.\",\n",
    "    \"Illustrate the comprehensive body language exhibited by a person participating in the specified task: {}.\",\n",
    "    \"Provide a detailed depiction of the bodily gestures of someone involved in the specified action: {}.\",\n",
    "    \"Elucidate the nuanced body language expressed by a person while carrying out the specified task: {}.\",\n",
    "    \"Examine closely the specific physical movements of a person performing the specified action: {}.\",\n",
    "    \"Offer a thorough account of the body language displayed by an individual engaged in the specified task: {}.\",\n",
    "    \"Explain in detail the bodily actions of a person executing the specified task: {}.\",\n",
    "    \"Describe meticulously the body movements demonstrated by someone involved in the specified action: {}.\",\n",
    "    \"Present a detailed portrayal of the specific physical expressions of an individual performing the specified task: {}.\",\n",
    "    \"Articulate the nuanced details of the bodily maneuvers displayed by someone participating in the specified task: {}.\",\n",
    "    \"Narrate the intricate specifics of a person's body language while performing the specified task: {}.\",\n",
    "    \"Delve into the specifics of the physical actions undertaken by an individual executing the specified action: {}.\",\n",
    "    \"Illustrate the comprehensive body language exhibited by a person participating in the specified task: {}.\",\n",
    "    \"Provide a detailed depiction of the bodily gestures of someone involved in the specified action: {}.\",\n",
    "    \"Elucidate the nuanced body language expressed by a person while carrying out the specified task: {}.\",\n",
    "    \"Examine closely the specific physical movements of a person performing the specified action: {}.\",\n",
    "    \"Offer a thorough account of the body language displayed by an individual engaged in the specified task: {}.\",\n",
    "    \"Explain in detail the bodily actions of a person executing the specified task: {}.\",\n",
    "    \"Describe meticulously the body movements demonstrated by someone involved in the specified action: {}.\",\n",
    "    \"Present a detailed portrayal of the specific physical expressions of an individual performing the specified task: {}.\",\n",
    "    \"Articulate the nuanced details of the bodily maneuvers displayed by someone participating in the specified task: {}.\",\n",
    "    \"Narrate the intricate specifics of a person's body language while performing the specified task: {}.\",\n",
    "    \"Delve into the specifics of the physical actions undertaken by an individual executing the specified action: {}.\",\n",
    "    \"Illustrate the comprehensive body language exhibited by a person participating in the specified task: {}.\",\n",
    "    \"Provide a detailed depiction of the bodily gestures of someone involved in the specified action: {}.\",\n",
    "    \"Elucidate the nuanced body language expressed by a person while carrying out the specified task: {}.\",\n",
    "    \"Examine closely the specific physical movements of a person performing the specified action: {}.\",\n",
    "    \"Offer a thorough account of the body language displayed by an individual engaged in the specified task: {}.\",\n",
    "    \"Explain in detail the bodily actions of a person executing the specified task: {}.\",\n",
    "    \"Describe meticulously the body movements demonstrated by someone involved in the specified action: {}.\",\n",
    "    \"Present a detailed portrayal of the specific physical expressions of an individual performing the specified task: {}.\",\n",
    "    \"Articulate the nuanced details of the bodily maneuvers displayed by someone participating in the specified task: {}.\",\n",
    "    \"Narrate the intricate specifics of a person's body language while performing the specified task: {}.\",\n",
    "    \"Delve into the specifics of the physical actions undertaken by an individual executing the specified action: {}.\",\n",
    "    \"Illustrate the comprehensive body language exhibited by a person participating in the specified task: {}.\",\n",
    "    \"Provide a detailed depiction of the bodily gestures of someone involved in the specified action: {}.\",\n",
    "    \"Elucidate the nuanced body language expressed by a person while carrying out the specified task: {}.\",\n",
    "    \"Examine closely the specific physical movements of a person performing the specified action: {}.\",\n",
    "    \"Offer a thorough account of the body language displayed by an individual engaged in the specified task: {}.\",\n",
    "    \"Explain in detail the bodily actions of a person executing the specified task: {}.\",\n",
    "    \"Describe meticulously the body movements demonstrated by someone involved in the specified action: {}.\",\n",
    "    \"Present a detailed portrayal of the specific physical expressions of an individual performing the specified task: {}.\",\n",
    "    \"Articulate the nuanced details of the bodily maneuvers displayed by someone participating in the specified task: {}.\",\n",
    "    \"Narrate the intricate specifics of a person's body language while performing the specified task: {}.\",\n",
    "    \"Delve into the specifics of the physical actions undertaken by an individual executing the specified action: {}.\",\n",
    "    \"Illustrate the comprehensive body language exhibited by a person participating in the specified task: {}.\",\n",
    "    \"Provide a detailed depiction of the bodily gestures of someone involved in the specified action: {}.\",\n",
    "    \"Elucidate the nuanced body language expressed by a person while carrying out the specified task: {}.\",\n",
    "    \"Examine closely the specific physical movements of a person performing the specified action: {}.\",\n",
    "    \"Offer a thorough account of the body language displayed by an individual engaged in the specified task: {}.\",\n",
    "    \"Explain in detail the bodily actions of a person executing the specified task: {}.\",\n",
    "    \"Describe meticulously the body movements demonstrated by someone involved in the specified action: {}.\",\n",
    "    \"Present a detailed portrayal of the specific physical expressions of an individual performing the specified task: {}.\",\n",
    "    \"Articulate the nuanced details of the bodily maneuvers displayed by someone participating in the specified task: {}.\",\n",
    "    \"Narrate the intricate specifics of a person's body language while performing the specified task: {}.\",\n",
    "     \"Elaborate on the body language of an individual executing the following actions: {}\",\n",
    "    \"Provide a detailed account of the physical gestures of a person engaged in the actions: {}\",\n",
    "    \"Describe thoroughly the bodily movements of someone performing the actions: {}\",\n",
    "    \"Illustrate in detail the way a person's body moves while undertaking the actions: {}\",\n",
    "    \"Explain meticulously the body gestures of an individual executing the given actions: {}\",\n",
    "    \"Detail the physical motions of a person who is actively involved in the actions: {}\",\n",
    "    \"Break down the specific body movements of someone carrying out the actions: {}\",\n",
    "    \"Offer an intricate portrayal of the bodily expressions of an individual performing the actions: {}\",\n",
    "    \"Outline in detail the way a person's body responds while executing the actions: {}\",\n",
    "    \"Provide an exhaustive account of the physical actions of someone engaged in: {}\",\n",
    "    \"Articulate the nuanced body language of an individual performing the specified actions: {}\",\n",
    "    \"Present a comprehensive depiction of the bodily gestures involved in the actions: {}\",\n",
    "    \"Discuss in detail the body movements of a person in the process of performing: {}\",\n",
    "    \"Provide an elaborate description of the physical movements of someone undertaking the actions: {}\",\n",
    "    \"Examine closely the body language exhibited by an individual performing the actions: {}\",\n",
    "    \"Detail the intricate physical gestures of a person actively involved in the actions: {}\",\n",
    "    \"Illustrate thoroughly the body movements of someone executing the given actions: {}\",\n",
    "    \"Explain in detail the specific physical motions of a person performing: {}\",\n",
    "    \"Break down the intricate details of the bodily expressions of an individual engaged in: {}\",\n",
    "    \"Offer a comprehensive analysis of the body language displayed while performing the actions: {}\",\n",
    "    \"Provide a detailed breakdown of the physical actions of someone actively engaged in: {}\",\n",
    "    \"Describe meticulously the bodily movements of a person executing the given actions: {}\",\n",
    "    \"Articulate in detail the specific body language of an individual performing: {}\",\n",
    "    \"Present a thorough examination of the bodily gestures involved in executing the actions: {}\",\n",
    "    \"Discuss in detail the way a person's body moves while performing the specified actions: {}\",\n",
    "    \"Provide an exhaustive portrayal of the physical movements of someone in the process of: {}\",\n",
    "    \"Examine closely the body language exhibited by an individual actively performing: {}\",\n",
    "    \"Detail the intricate physical gestures of a person involved in the actions: {}\",\n",
    "    \"Illustrate thoroughly the specific body movements of someone executing: {}\",\n",
    "    \"Explain in detail the nuanced physical motions of a person performing the specified actions: {}\",\n",
    "    \"Break down the intricate details of the bodily expressions displayed while performing: {}\",\n",
    "    \"Offer a comprehensive analysis of the body language observed in someone actively engaged in: {}\",\n",
    "    \"Provide a detailed breakdown of the specific physical actions of an individual performing the given: {}\",\n",
    "    \"Describe meticulously the body movements of a person actively involved in performing the actions: {}\",\n",
    "    \"Articulate in detail the specific bodily gestures of an individual executing the actions: {}\",\n",
    "    \"Present a thorough examination of the physical movements involved in performing the specified actions: {}\",\n",
    "    \"Discuss in detail the way a person's body responds while actively engaged in: {}\",\n",
    "    \"Provide an exhaustive portrayal of the body language displayed by someone in the process of performing: {}\",\n",
    "    \"Examine closely the specific physical gestures of a person performing the given actions: {}\",\n",
    "    \"Detail the nuanced body movements of someone executing the actions: {}\",\n",
    "    \"Illustrate thoroughly the specific physical motions of a person actively involved in performing: {}\",\n",
    "    \"Explain in detail the intricate details of the bodily expressions exhibited while carrying out: {}\",\n",
    "    \"Break down the comprehensive analysis of the body language observed in an individual performing the actions: {}\",\n",
    "    \"Offer a detailed breakdown of the specific physical actions of someone engaged in: {}\",\n",
    "    \"Describe meticulously the body language displayed by a person performing the specified actions: {}\",\n",
    "    \"Articulate in detail the specific body movements involved in executing the actions: {}\",\n",
    "    \"Present a thorough examination of the bodily gestures displayed while actively engaged in performing: {}\",\n",
    "    \"Discuss in detail the way a person's body moves during the process of: {}\",\n",
    "    \"Provide an exhaustive portrayal of the physical movements observed in someone actively performing the actions: {}\",\n",
    "    \"Examine closely the body language exhibited by an individual executing the given actions: {}\",\n",
    "    \"Detail the intricate physical gestures of a person actively involved in performing: {}\",\n",
    "    \"Illustrate thoroughly the specific body movements of someone performing the specified actions: {}\",\n",
    "    \"Explain in detail the nuanced physical motions of a person undertaking the actions: {}\",\n",
    "    \"Break down the intricate details of the bodily expressions exhibited while executing: {}\",\n",
    "    \"Offer a comprehensive analysis of the body language observed in an individual performing the specified: {}\",\n",
    "    \"Provide a detailed breakdown of the specific physical actions of a person engaged in performing the actions: {}\",\n",
    "    \"Describe meticulously the body movements of an individual executing the actions: {}\",\n",
    "    \"Articulate in detail the specific bodily gestures of someone actively involved in: {}\",\n",
    "    \"Present a thorough examination of the physical movements displayed while performing the actions: {}\",\n",
    "    \"Discuss in detail the way a person's body responds while executing the specified actions: {}\",\n",
    "    \"Provide an exhaustive portrayal of the body language observed in someone performing the given actions: {}\",\n",
    "    \"Examine closely the specific physical gestures of a person performing the actions: {}\",\n",
    "    \"Detail the nuanced body movements of someone executing the specified actions: {}\",\n",
    "    \"Illustrate thoroughly the specific physical motions of a person actively involved in: {}\",\n",
    "    \"Explain in detail the intricate details of the bodily expressions exhibited during: {}\",\n",
    "    \"Break down the comprehensive analysis of the body language displayed by an individual performing: {}\",\n",
    "    \"Offer a detailed breakdown of the specific physical actions of someone executing the actions: {}\",\n",
    "    \"Describe meticulously the body language of a person performing the actions: {}\",\n",
    "    \"Articulate in detail the specific body movements of an individual actively involved in: {}\",\n",
    "    \"Present a thorough examination of the bodily gestures exhibited while executing the specified actions: {}\",\n",
    "    \"Discuss in detail the way a person's body moves during the process of performing: {}\",\n",
    "    \"Provide an exhaustive portrayal of the physical movements observed in someone actively performing the given actions: {}\",\n",
    "    \"Examine closely the body language displayed by an individual executing the actions: {}\",\n",
    "    \"Detail the intricate physical gestures of a person actively involved in performing the specified actions: {}\",\n",
    "    \"Illustrate thoroughly the specific body movements of someone performing the given actions: {}\",\n",
    "    \"Explain in detail the nuanced physical motions of a person undertaking the specified actions: {}\",\n",
    "    \"Break down the intricate details of the bodily expressions exhibited while performing the actions: {}\",\n",
    "    \"Offer a comprehensive analysis of the body language observed in an individual performing the specified actions: {}\",\n",
    "    \"Provide a detailed breakdown of the specific physical actions of a person engaged in performing: {}\",\n",
    "    \"Describe meticulously the body movements of an individual executing the given actions: {}\",\n",
    "    \"Articulate in detail the specific bodily gestures of someone actively involved in performing the actions: {}\",\n",
    "    \"Present a thorough examination of the physical movements displayed while executing the given actions: {}\",\n",
    "    \"Discuss in detail the way a person's body responds while actively engaged in performing the specified actions: {}\",\n",
    "    \"Provide an exhaustive portrayal of the body language observed in someone performing the actions: {}\",\n",
    "    \"Examine closely the specific physical gestures of a person performing the specified actions: {}\",\n",
    "    \"Detail the nuanced body movements of someone executing the given actions: {}\",\n",
    "    \"Illustrate thoroughly the specific physical motions of a person actively involved in performing the specified actions: {}\",\n",
    "    \"Explain in detail the intricate details of the bodily expressions exhibited while undertaking the actions: {}\",\n",
    "    \"Break down the comprehensive analysis of the body language displayed by an individual performing the given actions: {}\",\n",
    "    \"Offer a detailed breakdown of the specific physical actions of someone executing the specified actions: {}\",\n",
    "    \"Describe meticulously the body language of a person performing the specified actions: {}\",\n",
    "    \"Articulate in detail the specific body movements of an individual actively involved in performing the given actions: {}\",\n",
    "    \"Present a thorough examination of the bodily gestures exhibited while executing the actions: {}\",\n",
    "    \"Discuss in detail the way a person's body moves during the process of performing the specified actions: {}\",\n",
    "    \"Provide an exhaustive portrayal of the physical movements observed in someone actively performing the specified actions: {}\",\n",
    "    \"Examine closely the body language displayed by an individual executing the specified actions: {}\",\n",
    "    \"Detail the intricate physical gestures of a person actively involved in performing the given actions: {}\",\n",
    "    \"Illustrate thoroughly the specific body movements of someone performing the specified actions: {}\",\n",
    "    \"Explain in detail the nuanced physical motions of a person undertaking the given actions: {}\",\n",
    "    \"Break down the intricate details of the bodily expressions exhibited while performing the specified actions: {}\",\n",
    "    \"Offer a comprehensive analysis of the body language observed in an individual performing the actions: {}\",\n",
    "    \"Provide a detailed breakdown of the specific physical actions of a person engaged in performing the given actions: {}\",\n",
    "    \"Describe meticulously the body movements of an individual executing the specified actions: {}\",\n",
    "    \"Articulate in detail the specific bodily gestures of someone actively involved in performing the given actions: {}\",\n",
    "    \"Present a thorough examination of the physical movements displayed while executing the specified actions: {}\",\n",
    "    \"Discuss in detail the way a person's body responds while actively engaged in performing the given actions: {}\",\n",
    "    \"Provide an exhaustive portrayal of the body language observed in someone performing the specified actions: {}\",\n",
    "    \"Examine closely the specific physical gestures of a person performing the given actions: {}\",\n",
    "    \"Detail the nuanced body movements of someone executing the specified actions: {}\",\n",
    "    \"Illustrate thoroughly the specific physical motions of a person actively involved in performing the given actions: {}\",\n",
    "    \"Explain in detail the intricate details of the bodily expressions exhibited while undertaking the specified actions: {}\",\n",
    "    \"Break down the comprehensive analysis of the body language displayed by an individual performing the given actions: {}\",\n",
    "    \"Offer a detailed breakdown of the specific physical actions of someone executing the given actions: {}\",\n",
    "    \"Describe meticulously the body language of a person performing the given actions: {}\",\n",
    "    \"Articulate in detail the specific body movements of an individual actively involved in performing the specified actions: {}\",\n",
    "    \"Present a thorough examination of the bodily gestures exhibited while executing the given actions: {}\",\n",
    "    \"Discuss in detail the way a person's body moves during the process of performing the given actions: {}\",\n",
    "    \"Provide an exhaustive portrayal of the physical movements observed in someone actively performing the given actions: {}\",\n",
    "    \"Examine closely the body language displayed by an individual executing the given actions: {}\",\n",
    "    \"Detail the intricate physical gestures of a person actively involved in performing the specified actions: {}\",\n",
    "    \"Illustrate thoroughly the specific body movements of someone performing the given actions: {}\",\n",
    "    \"Explain in detail the nuanced physical motions of a person undertaking the given actions: {}\",\n",
    "    \"Break down the intricate details of the bodily expressions exhibited while performing the given actions: {}\",\n",
    "    \"Offer a comprehensive analysis of the body language observed in an individual performing the specified actions: {}\",\n",
    "       \"Explain the bodily gestures of someone executing the tasks: {}\",\n",
    "    \"Elaborate on the physical actions of an individual engaged in the activities: {}\",\n",
    "    \"Illustrate the detailed movements of a person carrying out the actions: {}\",\n",
    "    \"Provide a thorough description of the body language of someone performing the actions: {}\",\n",
    "    \"Describe in depth the gestures and motions of a person who is undertaking the actions: {}\",\n",
    "    \"Give a detailed account of the physical expressions of an individual executing the tasks: {}\",\n",
    "    \"Offer a comprehensive explanation of the bodily maneuvers of someone involved in the actions: {}\",\n",
    "    \"Break down the intricate body movements of a person performing the specified actions: {}\",\n",
    "    \"Detail the precise physical actions of an individual in the process of performing the actions: {}\",\n",
    "    \"Outline the nuanced body language of someone actively engaged in the actions: {}\",\n",
    "    \"Present an elaborate description of the person's body movements while performing the actions: {}\",\n",
    "    \"Provide a comprehensive overview of the bodily actions of a person carrying out the specified tasks: {}\",\n",
    "    \"Articulate the specific body language exhibited by an individual performing the actions: {}\",\n",
    "    \"Explain in detail the bodily expressions of someone executing the actions: {}\",\n",
    "    \"Break down the intricate details of the physical movements of a person performing the actions: {}\",\n",
    "    \"Describe the detailed body language of someone actively participating in the actions: {}\",\n",
    "    \"Elucidate the nuanced bodily expressions of an individual undertaking the actions: {}\",\n",
    "    \"Provide a detailed analysis of the person's physical gestures while performing the actions: {}\",\n",
    "    \"Offer a thorough examination of the body movements of someone engaged in the actions: {}\",\n",
    "    \"Illustrate the detailed physical actions of a person in the process of performing the specified tasks: {}\",\n",
    "    \"Outline the specific body language displayed by an individual performing the actions: {}\",\n",
    "    \"Detail the intricate bodily maneuvers of someone executing the actions: {}\",\n",
    "    \"Explain the specific physical expressions of a person actively involved in the actions: {}\",\n",
    "    \"Provide a comprehensive breakdown of the body movements of someone carrying out the actions: {}\",\n",
    "    \"Describe in detail the bodily gestures and motions of an individual performing the specified actions: {}\",\n",
    "    \"Elaborate on the precise body language exhibited by a person undertaking the actions: {}\",\n",
    "    \"Present a detailed account of the physical actions of someone executing the specified tasks: {}\",\n",
    "    \"Articulate the nuanced body movements of an individual actively engaged in the actions: {}\",\n",
    "    \"Offer a comprehensive explanation of the bodily expressions displayed by a person performing the actions: {}\",\n",
    "    \"Provide a detailed analysis of the specific body language of someone involved in the actions: {}\",\n",
    "    \"Break down the intricate details of the physical gestures and motions of a person performing the actions: {}\",\n",
    "    \"Describe the detailed body movements of someone actively participating in the actions: {}\",\n",
    "    \"Elucidate the nuanced bodily actions of an individual undertaking the specified tasks: {}\",\n",
    "    \"Outline the specific physical expressions displayed by a person performing the actions: {}\",\n",
    "    \"Detail the intricate body language of someone executing the actions: {}\",\n",
    "    \"Explain the specific bodily maneuvers of a person actively involved in the specified actions: {}\",\n",
    "    \"Provide a comprehensive breakdown of the detailed physical actions of someone carrying out the tasks: {}\",\n",
    "    \"Illustrate the nuanced body movements of an individual performing the actions: {}\",\n",
    "    \"Present a detailed account of the specific body language exhibited by a person undertaking the specified actions: {}\",\n",
    "    \"Articulate the precise bodily expressions displayed by someone executing the actions: {}\",\n",
    "    \"Offer a comprehensive explanation of the detailed physical gestures and motions of a person performing the actions: {}\",\n",
    "    \"Provide a thorough examination of the specific body movements of someone actively engaged in the actions: {}\",\n",
    "    \"Break down the intricate details of the bodily actions of a person performing the actions: {}\",\n",
    "    \"Provide a detailed description of the bodily movements of someone engaged in the actions: {}\",\n",
    "    \"Explain thoroughly the body movements of an individual carrying out the specified actions: {}\",\n",
    "    \"Elaborate on the physical gestures of a person executing the given actions: {}\",\n",
    "    \"Describe in intricate detail the movements of the body of an individual who is performing the following actions: {}\",\n",
    "    \"Illustrate the specific body motions of someone undertaking the actions: {}\",\n",
    "    \"Give a detailed account of the physical movements exhibited by a person executing the specified actions: {}\",\n",
    "    \"Break down the bodily gestures of an individual involved in the actions: {}\",\n",
    "    \"Provide an elaborate depiction of the body movements of someone carrying out the given actions: {}\",\n",
    "    \"Articulate the nuances of the physical motions displayed by a person performing the actions: {}\",\n",
    "    \"Delve into the intricacies of the bodily movements of an individual engaged in the specified actions: {}\",\n",
    "    \"Offer a detailed portrayal of the body language of someone performing the actions: {}\",\n",
    "    \"Examine closely the physical actions and movements of a person involved in the specified activities: {}\",\n",
    "    \"Present a comprehensive analysis of the bodily expressions of an individual executing the actions: {}\",\n",
    "    \"Go into detail about the body movements of a person who is actively involved in the specified actions: {}\",\n",
    "    \"Provide a thorough breakdown of the physical gestures exhibited by someone performing the actions: {}\",\n",
    "    \"Describe the intricate details of a person's body language while engaging in the specified actions: {}\",\n",
    "    \"Elaborate on the specific body movements of an individual carrying out the given actions: {}\",\n",
    "    \"Illustrate the detailed physical actions of a person involved in the specified activities: {}\",\n",
    "    \"Articulate the nuances of the body language exhibited by someone performing the actions: {}\",\n",
    "    \"Present a detailed account of the bodily movements of an individual executing the given actions: {}\",\n",
    "    \"Explain in detail the physical gestures of a person actively participating in the specified actions: {}\",\n",
    "    \"Break down the specific body motions of someone undertaking the given actions: {}\",\n",
    "    \"Provide a comprehensive analysis of the body language displayed by a person performing the actions: {}\",\n",
    "    \"Delve into the intricacies of the bodily movements of an individual engaged in the specified activities: {}\",\n",
    "    \"Offer a detailed description of the physical expressions of someone carrying out the actions: {}\",\n",
    "    \"Examine closely the detailed body movements of a person involved in the specified actions: {}\",\n",
    "    \"Present a thorough breakdown of the physical gestures exhibited by someone performing the actions: {}\",\n",
    "    \"Describe in intricate detail the body language of an individual actively participating in the specified actions: {}\",\n",
    "    \"Illustrate the specific body movements of a person carrying out the given actions: {}\",\n",
    "    \"Articulate the nuanced details of the bodily actions displayed by someone executing the actions: {}\",\n",
    "    \"Provide a comprehensive account of the body language exhibited by a person performing the specified actions: {}\",\n",
    "    \"Explain in detail the physical movements of someone actively participating in the specified activities: {}\",\n",
    "    \"Break down the specific body motions of an individual undertaking the given actions: {}\",\n",
    "    \"Delve into the intricacies of the bodily expressions of a person involved in the actions: {}\",\n",
    "    \"Offer a detailed portrayal of the physical gestures exhibited by someone performing the specified actions: {}\",\n",
    "    \"Examine closely the detailed body movements of an individual carrying out the given actions: {}\",\n",
    "    \"Present a thorough breakdown of the specific body motions displayed by someone executing the actions: {}\",\n",
    "    \"Describe in intricate detail the nuances of the body language of a person actively participating in the specified actions: {}\",\n",
    "    \"Illustrate the specific body movements of someone performing the given actions: {}\",\n",
    "    \"Articulate the detailed physical actions displayed by a person engaged in the specified activities: {}\",\n",
    "    \"Provide a comprehensive analysis of the body language exhibited by an individual actively participating in the specified actions: {}\",\n",
    "    \"Explain in detail the specific bodily movements of someone undertaking the actions: {}\",\n",
    "    \"Break down the intricacies of the physical gestures exhibited by a person performing the specified actions: {}\",\n",
    "    \"Delve into the detailed body movements of an individual actively participating in the given actions: {}\",\n",
    "    \"Offer a thorough breakdown of the specific body motions displayed by someone executing the actions: {}\",\n",
    "    \"Examine closely the nuanced details of the bodily expressions of a person involved in the specified activities: {}\",\n",
    "    \"Present a detailed account of the physical gestures exhibited by someone carrying out the specified actions: {}\",\n",
    "    \"Describe in intricate detail the body language of an individual performing the given actions: {}\",\n",
    "    \"Illustrate the specific body movements of a person executing the specified actions: {}\",\n",
    "    \"Articulate the detailed physical actions displayed by someone actively participating in the given activities: {}\",\n",
    "    \"Provide a comprehensive analysis of the body language exhibited by an individual involved in the specified actions: {}\",\n",
    "    \"Explain in detail the specific bodily movements of someone carrying out the actions: {}\",\n",
    "    \"Break down the intricacies of the physical gestures exhibited by a person performing the given actions: {}\",\n",
    "    \"Delve into the detailed body movements of an individual actively participating in the specified activities: {}\",\n",
    "    \"Offer a thorough breakdown of the specific body motions displayed by someone executing the specified actions: {}\",\n",
    "    \"Examine closely the nuanced details of the bodily expressions of a person involved in the given actions: {}\",\n",
    "    \"Present a detailed account of the physical gestures exhibited by someone carrying out the actions: {}\",\n",
    "    \"Describe in intricate detail the body language of an individual performing the specified actions: {}\",\n",
    "    \"Illustrate the specific body movements of a person executing the given actions: {}\",\n",
    "    \"Articulate the detailed physical actions displayed by someone actively participating in the specified activities: {}\",\n",
    "]"
   ]
  },
  {
   "cell_type": "code",
   "execution_count": null,
   "id": "f872fc88-54a4-4a13-8a9c-bd561962299d",
   "metadata": {},
   "outputs": [],
   "source": [
    "print(len(paraphrasings))"
   ]
  },
  {
   "cell_type": "code",
   "execution_count": null,
   "id": "22d0ebd1-df55-4218-84f5-d36ed853c7e6",
   "metadata": {},
   "outputs": [],
   "source": [
    "l2gen = {}"
   ]
  },
  {
   "cell_type": "code",
   "execution_count": null,
   "id": "ac12e2af-f1c7-4494-af34-d7a60990f082",
   "metadata": {},
   "outputs": [],
   "source": []
  },
  {
   "cell_type": "code",
   "execution_count": null,
   "id": "f2c02d3c-03c5-4c8a-9827-fa7aeaa26c4f",
   "metadata": {},
   "outputs": [],
   "source": [
    "print(db.keys())"
   ]
  },
  {
   "cell_type": "code",
   "execution_count": null,
   "id": "a5681bd1-1ecc-4720-99b1-ab4f65cbd725",
   "metadata": {},
   "outputs": [],
   "source": [
    "import os \n",
    "from vllm import LLM, SamplingParams\n",
    "import time\n",
    "\n",
    "llm = LLM(model=\"mistralai/Mistral-7B-Instruct-v0.2\", max_model_len=8000)\n",
    "sampling_params = SamplingParams(temperature=0.5, max_tokens=512)"
   ]
  },
  {
   "cell_type": "code",
   "execution_count": null,
   "id": "ae751128-02e0-4c91-85c4-f8a3605ed4f7",
   "metadata": {},
   "outputs": [],
   "source": [
    "output llm.generate(prompts, sampling_params)"
   ]
  },
  {
   "cell_type": "code",
   "execution_count": null,
   "id": "52327309-67b9-41a4-b53e-6d6a13821806",
   "metadata": {},
   "outputs": [],
   "source": [
    "prompts = []\n",
    "for label in list(action_label_to_idx.keys())[:60]:\n",
    "    for i in range(377):\n",
    "        prompts.append(paraphrasings[i].format(f\"'{label}.'\"))\n",
    "\n"
   ]
  },
  {
   "cell_type": "code",
   "execution_count": null,
   "id": "dfe8edf2-2121-4576-a477-574267eef11c",
   "metadata": {},
   "outputs": [],
   "source": [
    "outputs = llm.generate(prompts, sampling_params)"
   ]
  },
  {
   "cell_type": "code",
   "execution_count": null,
   "id": "f63c83ed-d25a-4719-b2d4-407f3f215742",
   "metadata": {},
   "outputs": [],
   "source": [
    "print(len(outputs))"
   ]
  },
  {
   "cell_type": "code",
   "execution_count": null,
   "id": "08320d80-8189-4713-b16e-0c8f91ef08ec",
   "metadata": {},
   "outputs": [],
   "source": [
    "l2gen = {}\n",
    "for label in list(action_label_to_idx.keys())[:60]:\n",
    "    l2gen[label] = []"
   ]
  },
  {
   "cell_type": "code",
   "execution_count": null,
   "id": "d3a1e749-31a6-4064-b7a0-14a722e3fae4",
   "metadata": {},
   "outputs": [],
   "source": [
    "start = 0\n",
    "for (idx, label) in enumerate(list(action_label_to_idx.keys())[:60]):\n",
    "    texts = [output.outputs[0].text for output in outputs[start: start + 377]]\n",
    "    l2gen[label].extend(texts)\n",
    "    start += 377"
   ]
  },
  {
   "cell_type": "code",
   "execution_count": null,
   "id": "711bab3b-7aff-422f-b51d-a152605c27ff",
   "metadata": {},
   "outputs": [],
   "source": [
    "print(l2gen['sideways movement'][370])"
   ]
  },
  {
   "cell_type": "code",
   "execution_count": null,
   "id": "a40e443b-85b8-4d18-ac11-ccf2e09dda7e",
   "metadata": {},
   "outputs": [],
   "source": [
    "import random\n",
    "prompts = []\n",
    "for idx in range(len(db['action_cat'])):\n",
    "    unique_cats = np.unique(db['action_cat'][idx])\n",
    "    for cat in unique_cats:\n",
    "        if cat not in action_label_to_idx:\n",
    "            continue\n",
    "        cat_idx = action_label_to_idx[cat]\n",
    "        if cat_idx >= 60:\n",
    "            continue\n",
    "        prompts.append((idx, cat))\n",
    "\n",
    "p = [random.choice(paraphrasings).format(f\"'{prompt[1]}'\")\n",
    "     for prompt in prompts]\n",
    "\n",
    "outputs = llm.generate(p, sampling_params)\n",
    "results = [(output.request_id, output.outputs[0].text) for output in outputs]\n",
    "    "
   ]
  },
  {
   "cell_type": "code",
   "execution_count": null,
   "id": "8699e787-428c-477d-aebf-38ceb0bfaeb6",
   "metadata": {},
   "outputs": [],
   "source": [
    "start = 0\n",
    "#results = sorted(results, key=lambda x: x[0])\n",
    "tresults = [result[1] for result in results]\n",
    "db['clip_text'] = []\n",
    "print(prompts[100])\n",
    "print(results[100])\n",
    "for idx in range(len(db['action_cat'])):\n",
    "    unique_cats = np.unique(db['action_cat'][idx])\n",
    "    count = 0\n",
    "    for cat in unique_cats:\n",
    "        if cat not in action_label_to_idx:\n",
    "            continue\n",
    "        cat_idx = action_label_to_idx[cat]\n",
    "        if cat_idx >= 60:\n",
    "            continue\n",
    "        if idx == 100:\n",
    "            print('here')\n",
    "            print(start)\n",
    "            print(tresults[start:start + count + 1])\n",
    "        count += 1\n",
    "    db['clip_text'].append(tresults[start:start + count])\n",
    "    start += count\n",
    "    "
   ]
  },
  {
   "cell_type": "code",
   "execution_count": null,
   "id": "2df430b6-baa7-44f7-9c3b-5b83c93cec0e",
   "metadata": {},
   "outputs": [],
   "source": [
    "p1 = parameters\n",
    "p1['datapath'] = 'babel_with_gen_db.pt'\n",
    "train_dataset = get_datasets(parameters=p1, split='train')['train']\n",
    "val_dataset = get_datasets(parameters=p1, split='vald')['test']"
   ]
  },
  {
   "cell_type": "code",
   "execution_count": null,
   "id": "0ac65648-9e4c-427f-9f11-3bccd6edd0a8",
   "metadata": {},
   "outputs": [],
   "source": [
    "print(train_dataset.__getitem__(100))"
   ]
  },
  {
   "cell_type": "code",
   "execution_count": null,
   "id": "d5ed21b4-3ca9-4deb-94b9-dabf6c88b24c",
   "metadata": {},
   "outputs": [],
   "source": [
    "[[1, 2, 3]] * 3"
   ]
  },
  {
   "cell_type": "code",
   "execution_count": null,
   "id": "fa71851c-e75e-4f6d-95dc-84d5b8ad121b",
   "metadata": {},
   "outputs": [],
   "source": [
    "print(db['clip_text'][1500])\n",
    "print(db['action_cat'][1500])"
   ]
  },
  {
   "cell_type": "code",
   "execution_count": null,
   "id": "00cab880-8a49-4dba-9c8e-ded3c24f610d",
   "metadata": {},
   "outputs": [],
   "source": [
    "train_dataset.db = db"
   ]
  },
  {
   "cell_type": "code",
   "execution_count": null,
   "id": "c5675161-8e12-4aef-a9dd-28da8e36c773",
   "metadata": {},
   "outputs": [],
   "source": [
    "print(train_datset.__getitem__(100))"
   ]
  },
  {
   "cell_type": "code",
   "execution_count": null,
   "id": "ae48faa4-2945-4804-88b0-bfd4cfb95ecc",
   "metadata": {},
   "outputs": [],
   "source": [
    "print(db['thetas'][0])"
   ]
  },
  {
   "cell_type": "code",
   "execution_count": null,
   "id": "15528516-cf39-455a-89f2-4ab297fffa43",
   "metadata": {},
   "outputs": [],
   "source": [
    "import joblib"
   ]
  },
  {
   "cell_type": "code",
   "execution_count": null,
   "id": "2c94302e-8bae-46e0-a898-e8cc9ec81db9",
   "metadata": {},
   "outputs": [],
   "source": [
    "joblib.dump(db, 'babel_with_gen_train.pt')\n",
    "joblib.dump(val_dataset.db, 'babel_with_gen_vald.pt')"
   ]
  },
  {
   "cell_type": "code",
   "execution_count": null,
   "id": "4152b4fa-ed55-4aa4-a16e-86c8950d2eac",
   "metadata": {},
   "outputs": [],
   "source": [
    "print(len(db['action_cat']))"
   ]
  },
  {
   "cell_type": "code",
   "execution_count": null,
   "id": "bcc308a0-f7f7-417a-8cc2-3e98e790e4cc",
   "metadata": {},
   "outputs": [],
   "source": [
    "print(db['text_raw_labels'][0])"
   ]
  },
  {
   "cell_type": "code",
   "execution_count": null,
   "id": "67d6a699-9911-4710-b962-b81fee738055",
   "metadata": {},
   "outputs": [],
   "source": [
    "import torch\n",
    "\n",
    "# Generate a sample tensor\n",
    "data = torch.tensor([1.0, 2.0, 3.0, 4.0, 5.0])\n",
    "\n",
    "# Define quantiles\n",
    "quantiles = torch.tensor([0.25, 0.5, 0.75])\n",
    "\n",
    "# Compute quantiles\n",
    "quantile_values = torch.quantile(data, quantiles)\n",
    "\n",
    "# Perform quantile transform\n",
    "quantile_transformed_data = torch.searchsorted(quantile_values, data.float()) / float(len(quantiles))\n",
    "\n",
    "print(\"Original data:\", data)\n",
    "print(\"Quantile-transformed data:\", quantile_transformed_data)"
   ]
  },
  {
   "cell_type": "code",
   "execution_count": null,
   "id": "2deb924d-b342-477a-b5ea-14201d482213",
   "metadata": {},
   "outputs": [],
   "source": [
    "import joblib\n",
    "text_descriptions = joblib.load('./data/multiple_captions.pt')"
   ]
  },
  {
   "cell_type": "code",
   "execution_count": null,
   "id": "2f954e89-8186-44e7-b079-ca77a76eb279",
   "metadata": {},
   "outputs": [],
   "source": [
    "print(text_descriptions.keys())"
   ]
  },
  {
   "cell_type": "code",
   "execution_count": null,
   "id": "98a4a921-8268-4763-ad6c-0fef061dd478",
   "metadata": {},
   "outputs": [],
   "source": [
    "from angle_emb import AnglE"
   ]
  },
  {
   "cell_type": "code",
   "execution_count": null,
   "id": "6f4db35f-3f9d-4869-96e9-c333b6dda5ab",
   "metadata": {},
   "outputs": [],
   "source": []
  },
  {
   "cell_type": "code",
   "execution_count": null,
   "id": "4f4e39ee-46a8-4b60-abd9-8cea07cf8784",
   "metadata": {},
   "outputs": [],
   "source": [
    "import torch\n",
    "\n",
    "# Example tensor matrix\n",
    "matrix = torch.tensor([[1.0, 2.0, 3.0],\n",
    "                      [0.0, 0.0, 0.0],\n",
    "                      [4.0, 5.0, 6.0],\n",
    "                      [0.0, 1.0, 0.0]])\n",
    "\n",
    "# Create a mask for non-zero rows\n",
    "nonzero_rows_mask = (matrix != 0).any(dim=1)\n",
    "\n",
    "# Filter out rows where all elements are zero\n",
    "filtered_matrix = matrix[nonzero_rows_mask]\n",
    "\n",
    "print(\"Original Matrix:\")\n",
    "print(matrix)\n",
    "print(\"\\nFiltered Matrix (non-zero rows only):\")\n",
    "print(filtered_matrix)"
   ]
  },
  {
   "cell_type": "code",
   "execution_count": null,
   "id": "18c47325-8d57-42e5-8aae-6fc20ff0640f",
   "metadata": {},
   "outputs": [],
   "source": [
    "from transformers import AutoTokenizer, AutoModel\n",
    "import torch\n",
    "import torch.nn.functional as F\n",
    "\n",
    "#Mean Pooling - Take attention mask into account for correct averaging\n",
    "def mean_pooling(model_output, attention_mask):\n",
    "    token_embeddings = model_output[0] #First element of model_output contains all token embeddings\n",
    "    input_mask_expanded = attention_mask.unsqueeze(-1).expand(token_embeddings.size()).float()\n",
    "    return torch.sum(token_embeddings * input_mask_expanded, 1) / torch.clamp(input_mask_expanded.sum(1), min=1e-9)\n",
    "\n",
    "\n",
    "# Sentences we want sentence embeddings for\n",
    "print(text_descriptions['step'][0])\n",
    "print(text_descriptions['leg movements'][0])\n",
    "sentences = [text_descriptions['leg movements'][50], text_descriptions['leg movements'][0]]\n",
    "\n",
    "# Load model from HuggingFace Hub\n",
    "tokenizer = AutoTokenizer.from_pretrained('sentence-transformers/all-mpnet-base-v2')\n",
    "model = AutoModel.from_pretrained('sentence-transformers/all-mpnet-base-v2')\n",
    "\n",
    "# Tokenize sentences\n",
    "encoded_input = tokenizer(sentences, padding=True, truncation=True, return_tensors='pt')\n",
    "\n",
    "# Compute token embeddings\n",
    "with torch.no_grad():\n",
    "    model_output = model(**encoded_input)\n",
    "\n",
    "# Perform pooling\n",
    "sentence_embeddings = mean_pooling(model_output, encoded_input['attention_mask'])\n",
    "\n",
    "# Normalize embeddings\n",
    "# sentence_embedfeatures / features.norm(dim=-1, keepdim=True)dings[1] = F.normalize(sentence_embeddings, p=2, dim=1)\n",
    "sentence_embeddings = sentence_embeddings / sentence_embeddings.norm(dim=-1, keepdim=True)\n",
    "print(\"Sentence embeddings:\")\n",
    "print(sentence_embeddings[0] @ sentence_embeddings[1].T)"
   ]
  },
  {
   "cell_type": "code",
   "execution_count": null,
   "id": "ac212316-8100-4249-a338-22dadffe2c0c",
   "metadata": {},
   "outputs": [],
   "source": [
    "text_encoder = AnglE.from_pretrained('WhereIsAI/UAE-Large-V1', pooling_strategy='cls').cuda()"
   ]
  },
  {
   "cell_type": "code",
   "execution_count": null,
   "id": "9978b4d8-5de9-4881-adef-9cbad69487d0",
   "metadata": {},
   "outputs": [],
   "source": [
    "from src.utils.action_label_to_idx import action_label_to_idx\n",
    "import torch.nn.functional as F\n",
    "minim = 300\n",
    "label1 = text_encoder.encode(\"going out with the canine\", to_numpy=False)\n",
    "label1 = F.normalize(label1, p=2, dim=1)\n",
    "label2 = text_encoder.encode(\"walking the dog\", to_numpy=False)\n",
    "label2 = F.normalize(label2, p=2, dim=1)\n",
    "print(F.cosine_similarity(label1, label2))\n",
    "print(label1 @  label2.T)\n",
    "# for action in action_label_to_idx.keys():\n",
    "#     label1 = text_encoder.encode(action, to_numpy=False)\n",
    "#     label2 = text_encoder.encode(action, to_numpy=False)\n",
    "#     minim = min(minim, label1 @  label2.T)\n",
    "# print(minim)"
   ]
  },
  {
   "cell_type": "code",
   "execution_count": null,
   "id": "951d599a-1b75-43fc-b0dc-574a2bda64f5",
   "metadata": {},
   "outputs": [],
   "source": [
    "print(train_dataset.__getitem__(100))"
   ]
  },
  {
   "cell_type": "code",
   "execution_count": null,
   "id": "cfa8e77c-d2e1-49b2-ae34-bfdb4e859733",
   "metadata": {},
   "outputs": [],
   "source": [
    "db = train_dataset.load_db()"
   ]
  },
  {
   "cell_type": "code",
   "execution_count": null,
   "id": "8258a26c-3142-4ad6-9e2c-73386de0a870",
   "metadata": {},
   "outputs": [],
   "source": [
    "from src.datasets.tools import condense_duplicates\n",
    "\n",
    "print(db.keys())\n",
    "print(len(db['clip_images']))\n",
    "print(db['text_raw_labels'][1])\n",
    "\n",
    "labels = db['text_raw_labels'][1]\n",
    "labels.append('lie down on stomach')\n",
    "proc_labels = condense_duplicates(labels)\n",
    "print(proc_labels)"
   ]
  },
  {
   "cell_type": "code",
   "execution_count": null,
   "id": "39c64a21-66a8-4a91-ad17-63f167916b40",
   "metadata": {},
   "outputs": [],
   "source": [
    "print(len(train_dataset))\n",
    "print(train_dataset.datapath)\n",
    "db = train_dataset.load_db()\n"
   ]
  },
  {
   "cell_type": "code",
   "execution_count": null,
   "id": "defcd331-7e25-499d-adaf-f2b09ce56733",
   "metadata": {},
   "outputs": [],
   "source": []
  },
  {
   "cell_type": "code",
   "execution_count": null,
   "id": "3ec96cc8-0947-49c4-8aeb-bf9efac9d385",
   "metadata": {},
   "outputs": [],
   "source": [
    "print(db.keys())\n",
    "print(condense_duplicates(db['action_cat'][100]))"
   ]
  },
  {
   "cell_type": "code",
   "execution_count": null,
   "id": "3e61934a-f5f8-419d-bbd6-aceeb7b0c486",
   "metadata": {},
   "outputs": [],
   "source": [
    "import copy\n",
    "import joblib\n",
    "\n",
    "def gen_simple_dataset(db, split='train'):\n",
    "    generated_db = copy.deepcopy(db)\n",
    "    generated_db['clip_text'] = copy.deepcopy(db['text_proc_labels'])\n",
    "    curated_idx = []\n",
    "    for (idx, video_labels) in enumerate(db['text_raw_labels']):\n",
    "        condensed_labels = condense_duplicates(video_labels)\n",
    "        action = \" and \".join(condensed_labels)\n",
    "        generated_db['clip_text'][idx] = action\n",
    "    \n",
    "    print(generated_db['clip_text'][0])\n",
    "    joblib.dump(generated_db, f'./data/babel/babel_30fps_{split}.pt')\n",
    "\n",
    "#gen_simple_dataset(db)"
   ]
  },
  {
   "cell_type": "code",
   "execution_count": null,
   "id": "1c8bf090-f96a-4c86-8ffe-cd2568f9d542",
   "metadata": {},
   "outputs": [],
   "source": [
    "def gen_captions(llm, sampling_params):\n",
    "    actions = list(action_label_to_idx.keys())[:60]\n",
    "    prompts = ['[INST] Describe a person’s body movements who is performing the actions {} in detail [/INST]'\n",
    "               .format(action) for action in actions]\n",
    "    outputs = llm.generate(prompts, sampling_params)\n",
    "    initial_results = [output.outputs[0].text for output in outputs]\n",
    "    \n",
    "    captions_mapping = {}\n",
    "    for (idx, action) in enumerate(actions):\n",
    "        captions_mapping[action] = [initial_results[idx]]\n",
    "    prompts = []\n",
    "    for result in initial_results:\n",
    "        prompts.extend(['[INST] Paraphrase the following description: {} [/INST]'.format(result)] * 1000)\n",
    "        \n",
    "    outputs = llm.generate(prompts, sampling_params)\n",
    "    for (idx, output) in enumerate(outputs):\n",
    "        captions_mapping[actions[idx // 1000]].append(output.outputs[0].text)\n",
    "        \n",
    "    return captions_mapping\n",
    "    \n",
    "def gen_llm_dataset(db, llm, sampling_params, split='train'):\n",
    "    generated_db = {}\n",
    "    for key in db.keys():\n",
    "        generated_db[key] = []\n",
    "    curated_idx = []\n",
    "    \n",
    "    \n",
    "    for (idx, vide_cat) in enumerate(db['action_cat'][:1]):\n",
    "        unique_cats = np.unique(vide_cat)\n",
    "        all_valid_cats = []\n",
    "        for multi_cats in unique_cats:\n",
    "            for cat in multi_cats.split(\",\"):\n",
    "                if cat not in action_label_to_idx:\n",
    "                    continue\n",
    "                \n",
    "                cat_idx = action_label_to_idx[cat]\n",
    "                if cat_idx >= 60:\n",
    "                    continue\n",
    "                all_valid_cats.extend([cat])\n",
    "\n",
    "        if len(all_valid_cats) == 0:  # No valid category available\n",
    "            continue\n",
    "        \n",
    "        for key in generated_db.keys():\n",
    "            generated_db[key].append(db[key][idx])\n",
    "        \n",
    "        choosen_cat = np.random.choice(all_valid_cats, size=1)[0]\n",
    "        # condensed_labels = condense_duplicates(video_labels)\n",
    "        # action = \" and \".join(condensed_labels)\n",
    "        actions.append(choosen_cat)\n",
    "    print(actions)\n",
    "    captions = gen_captions(actions, llm, sampling_params)\n",
    "    generated_db['clip_text'] = []\n",
    "    for (idx, video_labels) in enumerate(generated_db['action_cat']):\n",
    "        generated_db['clip_text'].append(captions[idx])\n",
    "    \n",
    "    print(len(generated_db['clip_text']))\n",
    "    print(generated_db['clip_text'][0])\n",
    "    joblib.dump(generated_db, f'./data/babel_llm_multiple/babel_30fps_{split}.pt')"
   ]
  },
  {
   "cell_type": "code",
   "execution_count": null,
   "id": "29b1eb80-c025-4476-bf7b-b84b6ce85b7e",
   "metadata": {},
   "outputs": [],
   "source": [
    "print(train_dataset._clip_texts[100])"
   ]
  },
  {
   "cell_type": "code",
   "execution_count": null,
   "id": "4ae6243f-78c1-4945-8d1a-4cac783c9c52",
   "metadata": {},
   "outputs": [],
   "source": [
    "import os \n",
    "from vllm import LLM, SamplingParams\n",
    "import time\n",
    "\n",
    "llm = LLM(model=\"mistralai/Mistral-7B-Instruct-v0.1\")\n",
    "sampling_params = SamplingParams(temperature=0.7, max_tokens=512)"
   ]
  },
  {
   "cell_type": "code",
   "execution_count": null,
   "id": "49f276bc-d814-4d32-b8c0-eae236cc1e6c",
   "metadata": {},
   "outputs": [],
   "source": [
    "captions = gen_captions(llm, sampling_params)"
   ]
  },
  {
   "cell_type": "code",
   "execution_count": null,
   "id": "6cfd5d8d-6f9e-4a81-84e6-ff0188e0ae4b",
   "metadata": {},
   "outputs": [],
   "source": [
    "print(captions['touch object'][:5])\n",
    "joblib.dump(captions, f'./data/multiple_captions.pt')\n",
    "1/0"
   ]
  },
  {
   "cell_type": "code",
   "execution_count": null,
   "id": "91907c4a-9eb2-4f1b-a425-1f0386b73726",
   "metadata": {},
   "outputs": [],
   "source": [
    "from src.utils.action_label_to_idx import action_label_to_idx\n",
    "import joblib\n",
    "def gen_groundtruth():\n",
    "    \n",
    "    action_text_labels = list(action_label_to_idx.keys())\n",
    "    action_text_labels.sort(key=lambda x: action_label_to_idx[x])\n",
    "    action_text_labels = action_text_labels[:60]\n",
    "    print(action_text_labels)\n",
    "    prompts = ['[INST] Describe a person’s body movements who is performing the actions {} in detail [/INST]'\n",
    "               .format(action) for action in action_text_labels]\n",
    "    outputs = llm.generate(prompts, sampling_params)\n",
    "    return [{'generated': output.outputs[0].text, 'orig': action_text_labels[idx]}  for (idx, output) in enumerate(outputs)]\n",
    "\n",
    "#joblib.dump(gen_groundtruth(), f'./data/babel_llm/grountruth.pt')"
   ]
  },
  {
   "cell_type": "code",
   "execution_count": null,
   "id": "576d7090-c0fa-4e48-8c34-eae3fa159810",
   "metadata": {},
   "outputs": [],
   "source": []
  },
  {
   "cell_type": "code",
   "execution_count": null,
   "id": "fb9a2dd4-99b2-4d09-ba7a-8910642538e8",
   "metadata": {},
   "outputs": [],
   "source": [
    " gen_llm_dataset(val_dataset.load_db(), llm, sampling_params, split='vald')"
   ]
  },
  {
   "cell_type": "code",
   "execution_count": null,
   "id": "1fc324cf-fbb3-4287-9717-97f517a8e6b6",
   "metadata": {},
   "outputs": [],
   "source": [
    "gen_val_dataset = AMASS(clip_preprocess=clip_preprocess, datapath=\"./data/babel_llm_1/babel_30fps_db.pt\")\n",
    "print(len(gen_val_dataset))\n",
    "print(gen_val_dataset.__getitem__(0)['all_categories'])"
   ]
  },
  {
   "cell_type": "code",
   "execution_count": null,
   "id": "5273f3c4-bf3f-4a47-acb1-17568350ce2c",
   "metadata": {},
   "outputs": [],
   "source": [
    "count = 0\n",
    "for entry in gen_val_dataset:\n",
    "    if 'all_categories'  not in entry:\n",
    "        count += 1\n",
    "print(count)"
   ]
  },
  {
   "cell_type": "code",
   "execution_count": null,
   "id": "c716460c-5008-474a-bbc4-49a39dd22f42",
   "metadata": {},
   "outputs": [],
   "source": [
    "simple_val_dataset = AMASS(clip_preprocess=clip_preprocess, datapath=\"./data/babel/babel_30fps_db.pt\")\n",
    "print(len(simple_val_dataset))"
   ]
  },
  {
   "cell_type": "code",
   "execution_count": null,
   "id": "01a4b1ed-2f3c-4834-9e01-5e8c1e535b55",
   "metadata": {},
   "outputs": [],
   "source": [
    "gen_train_dataset = AMASS(clip_preprocess=clip_preprocess, datapath=\"./data/babel_llm_1/babel_30fps_db.pt\", split=\"train\")"
   ]
  },
  {
   "cell_type": "code",
   "execution_count": null,
   "id": "eda8f79e-b091-4a47-a110-ba2c020821de",
   "metadata": {},
   "outputs": [],
   "source": [
    "db_val = gen_val_dataset.load_db()"
   ]
  },
  {
   "cell_type": "code",
   "execution_count": null,
   "id": "bbe00e31-5bc5-4736-90be-01727feea72f",
   "metadata": {},
   "outputs": [],
   "source": [
    "print(db_val.keys())"
   ]
  },
  {
   "cell_type": "code",
   "execution_count": null,
   "id": "8705b928-60da-4540-bdf3-006fb6f6a1a6",
   "metadata": {},
   "outputs": [],
   "source": [
    "print(gen_val_dataset._clip_texts[1])"
   ]
  },
  {
   "cell_type": "code",
   "execution_count": null,
   "id": "71ecbcc7-999a-40dd-8d7b-9da10e4cb698",
   "metadata": {},
   "outputs": [],
   "source": [
    "print(len(gen_val_dataset._clip_texts))\n",
    "print(gen_val_dataset.__getitem__(5000)['clip_text'])\n",
    "print(simple_val_dataset.__getitem__(5000)['clip_text'])"
   ]
  },
  {
   "cell_type": "code",
   "execution_count": null,
   "id": "6a7ef2d7-9337-4c37-895c-18296566bde0",
   "metadata": {},
   "outputs": [],
   "source": [
    "prompts = ['[INST] Describe a person’s body movements who is performing the actions {} in detail [/INST]'.format('sway')]"
   ]
  },
  {
   "cell_type": "code",
   "execution_count": null,
   "id": "eafccc9b-6024-44c4-971f-ce15e72f3452",
   "metadata": {},
   "outputs": [],
   "source": [
    "outputs = llm.generate(prompts, sampling_params)\n",
    "for output in outputs:\n",
    "    prompt = output.prompt\n",
    "    generated_text = output.outputs[0].text\n",
    "    print(generated_text)"
   ]
  },
  {
   "cell_type": "code",
   "execution_count": null,
   "id": "ba375840-27f3-45b5-807e-1116735e7b22",
   "metadata": {},
   "outputs": [],
   "source": []
  }
 ],
 "metadata": {
  "kernelspec": {
   "display_name": "motionclip",
   "language": "python",
   "name": "motionclip"
  },
  "language_info": {
   "codemirror_mode": {
    "name": "ipython",
    "version": 3
   },
   "file_extension": ".py",
   "mimetype": "text/x-python",
   "name": "python",
   "nbconvert_exporter": "python",
   "pygments_lexer": "ipython3",
   "version": "3.8.11"
  }
 },
 "nbformat": 4,
 "nbformat_minor": 5
}
