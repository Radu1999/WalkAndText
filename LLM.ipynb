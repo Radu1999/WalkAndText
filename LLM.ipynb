{
 "cells": [
  {
   "cell_type": "code",
   "execution_count": 19,
   "id": "70a2e871-3a90-4f82-9f73-83ef6040119a",
   "metadata": {},
   "outputs": [],
   "source": [
    "from src.datasets.amass import AMASS\n",
    "import clip\n",
    "from src.datasets.get_dataset import get_datasets\n",
    "import torch\n",
    "from src.datasets.tools import condense_duplicates\n",
    "import numpy as np\n",
    "from src.utils.action_label_to_idx import action_label_to_idx\n",
    "import src.utils.fixseed  # noqa"
   ]
  },
  {
   "cell_type": "code",
   "execution_count": 2,
   "id": "40107129-0c90-4bdb-bf61-3e79eebc3be4",
   "metadata": {},
   "outputs": [],
   "source": [
    "%load_ext autoreload\n",
    "%autoreload 2"
   ]
  },
  {
   "cell_type": "code",
   "execution_count": 3,
   "id": "559d8e0a-47a9-4598-8306-6be515f33739",
   "metadata": {},
   "outputs": [],
   "source": [
    "parameters = {\n",
    "    'expname': 'exps',\n",
    "    'folder': './exps/clip',\n",
    "    'cuda': True,\n",
    "    'device': torch.device(type='cuda', index=0),\n",
    "    'batch_size': 80,\n",
    "    'num_epochs': 500,\n",
    "    'lr': 0.0002,\n",
    "    'snapshot': 20,\n",
    "    'dataset': 'babel',\n",
    "    'datapath': './data/amass/amass_db/babel_30fps_db.pt',\n",
    "    'num_frames': 60,\n",
    "    'sampling': 'conseq',\n",
    "    'sampling_step': 1,\n",
    "    'pose_rep': 'rot6d',\n",
    "    'max_len': -1,\n",
    "    'min_len': -1,\n",
    "    'num_seq_max': -1,\n",
    "    'glob': True,\n",
    "    'glob_rot': [3.141592653589793, 0, 0],\n",
    "    'translation': True,\n",
    "    'debug': False,\n",
    "    'use_action_cat_as_text_labels': False,\n",
    "    'only_60_classes': True,\n",
    "    'use_only_15_classes': False,\n",
    "    'modelname': 'motionclip_transformer_rc_rcxyz_vel',\n",
    "    'latent_dim': 512,\n",
    "    'lambda_rc': 95.0,\n",
    "    'lambda_rcxyz': 95.0,\n",
    "    'lambda_vel': 95.0,\n",
    "    'lambda_velxyz': 1.0,\n",
    "    'jointstype': 'vertices',\n",
    "    'vertstrans': False,\n",
    "    'num_layers': 8,\n",
    "    'activation': 'gelu',\n",
    "    'clip_image_losses': ['cosine'],\n",
    "    'clip_text_losses': ['cosine'],\n",
    "    'clip_lambda_mse': 1.0,\n",
    "    'clip_lambda_ce': 1.0,\n",
    "    'clip_lambda_cosine': 1.0,\n",
    "    'clip_training': '',\n",
    "    'clip_layers': 12,\n",
    "    'modeltype': 'motionclip',\n",
    "    'archiname': 'transformer',\n",
    "    'losses': ['rc', 'rcxyz', 'vel'],\n",
    "    'lambdas': {'rc': 95.0, 'rcxyz': 95.0, 'vel': 95.0},\n",
    "    'clip_lambdas': {'image': {'cosine': 1.0}, 'text': {'cosine': 1.0}},\n",
    "    'num_classes': 1,\n",
    "    'nfeats': 6,\n",
    "    'njoints': 25,\n",
    "    'outputxyz': True\n",
    "}"
   ]
  },
  {
   "cell_type": "code",
   "execution_count": 5,
   "id": "08cffacc-b93e-46ea-a4bf-8ef98574e164",
   "metadata": {},
   "outputs": [
    {
     "name": "stdout",
     "output_type": "stream",
     "text": [
      "datapath used by amass is [./data/amass/amass_db/babel_30fps_train.pt]\n",
      "datapath used by amass is [./data/amass/amass_db/babel_30fps_vald.pt]\n"
     ]
    }
   ],
   "source": [
    "clip_model, clip_preprocess = clip.load(\"ViT-B/32\", device='cpu',\n",
    "                                    jit=False)  # Must set jit=False for training\n",
    "train_dataset = get_datasets(parameters=parameters, clip_preprocess=clip_preprocess, split='train')['train']\n",
    "val_dataset = get_datasets(parameters=parameters, \n",
    "                           clip_preprocess=clip_preprocess, split='vald')['test']\n"
   ]
  },
  {
   "cell_type": "code",
   "execution_count": 6,
   "id": "39c64a21-66a8-4a91-ad17-63f167916b40",
   "metadata": {},
   "outputs": [
    {
     "name": "stdout",
     "output_type": "stream",
     "text": [
      "20112\n",
      "./data/amass/amass_db/babel_30fps_train.pt\n"
     ]
    }
   ],
   "source": [
    "print(len(train_dataset))\n",
    "print(train_dataset.datapath)\n",
    "db = train_dataset.load_db()\n"
   ]
  },
  {
   "cell_type": "code",
   "execution_count": 7,
   "id": "3ec96cc8-0947-49c4-8aeb-bf9efac9d385",
   "metadata": {},
   "outputs": [
    {
     "name": "stdout",
     "output_type": "stream",
     "text": [
      "dict_keys(['vid_names', 'thetas', 'joints3d', 'clip_images', 'clip_pathes', 'text_raw_labels', 'text_proc_labels', 'action_cat'])\n",
      "['skip' 'transition' 'walk']\n"
     ]
    }
   ],
   "source": [
    "print(db.keys())\n",
    "print(condense_duplicates(db['action_cat'][100]))"
   ]
  },
  {
   "cell_type": "code",
   "execution_count": 13,
   "id": "3e61934a-f5f8-419d-bbd6-aceeb7b0c486",
   "metadata": {},
   "outputs": [],
   "source": [
    "import copy\n",
    "import joblib\n",
    "\n",
    "def gen_simple_dataset(db, split='train'):\n",
    "    generated_db = copy.deepcopy(db)\n",
    "    generated_db['clip_text'] = copy.deepcopy(db['text_proc_labels'])\n",
    "    curated_idx = []\n",
    "    for (idx, video_labels) in enumerate(db['text_raw_labels']):\n",
    "        condensed_labels = condense_duplicates(video_labels)\n",
    "        action = \" and \".join(condensed_labels)\n",
    "        generated_db['clip_text'][idx] = action\n",
    "    \n",
    "    print(generated_db['clip_text'][0])\n",
    "    joblib.dump(generated_db, f'./data/babel/babel_30fps_{split}.pt')\n",
    "\n",
    "#gen_simple_dataset(db)"
   ]
  },
  {
   "cell_type": "code",
   "execution_count": 41,
   "id": "1c8bf090-f96a-4c86-8ffe-cd2568f9d542",
   "metadata": {},
   "outputs": [],
   "source": [
    "def gen_captions(actions, llm, sampling_params):\n",
    "    prompts = ['[INST] Describe a person’s body movements who is performing the actions {} in 30 words [/INST]'\n",
    "               .format(action) for action in actions]\n",
    "    outputs = llm.generate(prompts, sampling_params)\n",
    "    return [output.outputs[0].text for output in outputs]\n",
    "    \n",
    "def gen_llm_dataset(db, llm, sampling_params, split='train'):\n",
    "    generated_db = {}\n",
    "    for key in db.keys():\n",
    "        generated_db[key] = []\n",
    "    curated_idx = []\n",
    "    \n",
    "    actions = []\n",
    "    for (idx, vide_cat) in enumerate(db['action_cat']):\n",
    "        unique_cats = np.unique(vide_cat)\n",
    "        all_valid_cats = []\n",
    "        for multi_cats in unique_cats:\n",
    "            for cat in multi_cats.split(\",\"):\n",
    "                if cat not in action_label_to_idx:\n",
    "                    continue\n",
    "                \n",
    "                cat_idx = action_label_to_idx[cat]\n",
    "                if cat_idx >= 60:\n",
    "                    continue\n",
    "                all_valid_cats.extend([cat])\n",
    "\n",
    "        if len(all_valid_cats) == 0:  # No valid category available\n",
    "            continue\n",
    "        \n",
    "        for key in generated_db.keys():\n",
    "            generated_db[key].append(db[key][idx])\n",
    "        \n",
    "        choosen_cat = np.random.choice(all_valid_cats, size=1)[0]\n",
    "        # condensed_labels = condense_duplicates(video_labels)\n",
    "        # action = \" and \".join(condensed_labels)\n",
    "        actions.append(choosen_cat)\n",
    "    \n",
    "    captions = gen_captions(actions, llm, sampling_params)\n",
    "    generated_db['clip_text'] = []\n",
    "    for (idx, video_labels) in enumerate(generated_db['action_cat']):\n",
    "        generated_db['clip_text'].append(captions[idx])\n",
    "        \n",
    "    print(generated_db['clip_text'][0])\n",
    "    joblib.dump(generated_db, f'./data/babel_llm_1_smaller/babel_30fps_{split}.pt')"
   ]
  },
  {
   "cell_type": "code",
   "execution_count": 10,
   "id": "29b1eb80-c025-4476-bf7b-b84b6ce85b7e",
   "metadata": {},
   "outputs": [
    {
     "name": "stdout",
     "output_type": "stream",
     "text": [
      "['guard up' 'guard up' 'guard up' 'guard up' 'guard up' 'guard up'\n",
      " 'guard up' 'guard up' 'guard up' 'guard up' 'guard up' 'guard up'\n",
      " 'guard up' 'guard up' 'guard up' 'transition' 'transition' 'transition'\n",
      " 'transition' 'transition' 'transition' 'transition' 'transition'\n",
      " 'transition' 'transition' 'transition' 'transition' 'transition'\n",
      " 'transition' 'transition' 'transition' 'turn giving back'\n",
      " 'turn giving back' 'turn giving back' 'turn giving back'\n",
      " 'turn giving back' 'turn giving back' 'turn giving back'\n",
      " 'turn giving back' 'turn giving back' 'turn giving back'\n",
      " 'turn giving back' 'turn giving back' 'transition' 'transition'\n",
      " 'transition' 'transition' 'transition' 'transition' 'guard up' 'guard up'\n",
      " 'guard up' 'guard up' 'guard up' 'guard up' 'guard up' 'guard up'\n",
      " 'guard up' 'guard up' 'guard up' 'guard up' 'guard up' 'guard up'\n",
      " 'guard up' 'guard up' 'guard up' 'guard up' 'guard up' 'guard up'\n",
      " 'transition' 'transition' 'transition' 'transition' 'transition'\n",
      " 'transition' 'transition' 'transition' 'transition' 'transition'\n",
      " 'turn to original position' 'turn to original position'\n",
      " 'turn to original position' 'turn to original position'\n",
      " 'turn to original position' 'turn to original position'\n",
      " 'turn to original position' 'turn to original position'\n",
      " 'turn to original position' 'turn to original position' 'transition'\n",
      " 'transition' 'transition' 'transition' 'transition' 'transition'\n",
      " 'transition' 'transition' 'transition' 'guard up' 'guard up']\n"
     ]
    }
   ],
   "source": [
    "print(train_dataset._clip_texts[100])"
   ]
  },
  {
   "cell_type": "code",
   "execution_count": 11,
   "id": "4ae6243f-78c1-4945-8d1a-4cac783c9c52",
   "metadata": {},
   "outputs": [
    {
     "name": "stderr",
     "output_type": "stream",
     "text": [
      "2023-12-15 11:11:51,199\tINFO util.py:159 -- Missing packages: ['ipywidgets']. Run `pip install -U ipywidgets`, then restart the notebook server for rich notebook output.\n",
      "2023-12-15 11:11:51,772\tINFO util.py:159 -- Missing packages: ['ipywidgets']. Run `pip install -U ipywidgets`, then restart the notebook server for rich notebook output.\n"
     ]
    },
    {
     "name": "stdout",
     "output_type": "stream",
     "text": [
      "INFO 12-15 11:11:51 llm_engine.py:73] Initializing an LLM engine with config: model='mistralai/Mistral-7B-Instruct-v0.1', tokenizer='mistralai/Mistral-7B-Instruct-v0.1', tokenizer_mode=auto, revision=None, tokenizer_revision=None, trust_remote_code=False, dtype=torch.bfloat16, max_seq_len=32768, download_dir=None, load_format=auto, tensor_parallel_size=1, quantization=None, seed=0)\n",
      "INFO 12-15 11:13:57 llm_engine.py:222] # GPU blocks: 1375, # CPU blocks: 2048\n"
     ]
    }
   ],
   "source": [
    "import os \n",
    "from vllm import LLM, SamplingParams\n",
    "import time\n",
    "\n",
    "llm = LLM(model=\"mistralai/Mistral-7B-Instruct-v0.1\")\n",
    "sampling_params = SamplingParams(temperature=0.7, max_tokens=512)"
   ]
  },
  {
   "cell_type": "raw",
   "id": "73e3742f-8cbb-4f5f-9605-aea3744c3e01",
   "metadata": {},
   "source": [
    "from src.utils.action_label_to_idx import action_label_to_idx\n",
    "import joblib\n",
    "def gen_groundtruth():\n",
    "    \n",
    "    action_text_labels = list(action_label_to_idx.keys())\n",
    "    action_text_labels.sort(key=lambda x: action_label_to_idx[x])\n",
    "    action_text_labels = action_text_labels[:60]\n",
    "    print(action_text_labels)\n",
    "    prompts = ['[INST] Describe a person’s body movements who is performing the actions {} in 20 words [/INST]'\n",
    "               .format(action) for action in action_text_labels]\n",
    "    outputs = llm.generate(prompts, sampling_params)\n",
    "    return [{'generated': output.outputs[0].text, 'orig': action_text_labels[idx]}  for (idx, output) in enumerate(outputs)]\n",
    "\n",
    "#joblib.dump(gen_groundtruth(), f'./data/babel_llm_1/grountruth.pt')"
   ]
  },
  {
   "cell_type": "code",
   "execution_count": null,
   "id": "576d7090-c0fa-4e48-8c34-eae3fa159810",
   "metadata": {},
   "outputs": [],
   "source": []
  },
  {
   "cell_type": "code",
   "execution_count": 43,
   "id": "fb9a2dd4-99b2-4d09-ba7a-8910642538e8",
   "metadata": {},
   "outputs": [
    {
     "name": "stderr",
     "output_type": "stream",
     "text": [
      "\n",
      "Processed prompts:   0%|          | 0/1766 [00:00<?, ?it/s]\u001b[A\n",
      "Processed prompts:   0%|          | 1/1766 [00:04<1:58:13,  4.02s/it]\u001b[A\n",
      "Processed prompts:   0%|          | 2/1766 [00:04<54:09,  1.84s/it]  \u001b[A\n",
      "Processed prompts:   0%|          | 4/1766 [00:04<21:25,  1.37it/s]\u001b[A\n",
      "Processed prompts:   0%|          | 6/1766 [00:04<12:12,  2.40it/s]\u001b[A\n",
      "Processed prompts:   0%|          | 8/1766 [00:04<08:37,  3.39it/s]\u001b[A\n",
      "Processed prompts:   1%|          | 14/1766 [00:04<03:37,  8.05it/s]\u001b[A\n",
      "Processed prompts:   1%|          | 20/1766 [00:05<02:39, 10.92it/s]\u001b[A\n",
      "Processed prompts:   2%|▏         | 29/1766 [00:05<01:35, 18.21it/s]\u001b[A\n",
      "Processed prompts:   2%|▏         | 38/1766 [00:05<01:08, 25.13it/s]\u001b[A\n",
      "Processed prompts:   3%|▎         | 50/1766 [00:05<00:51, 33.21it/s]\u001b[A\n",
      "Processed prompts:   3%|▎         | 60/1766 [00:06<00:46, 37.01it/s]\u001b[A\n",
      "Processed prompts:   4%|▍         | 73/1766 [00:06<00:39, 42.80it/s]\u001b[A\n",
      "Processed prompts:   5%|▍         | 83/1766 [00:06<00:38, 43.95it/s]\u001b[A\n",
      "Processed prompts:   5%|▌         | 91/1766 [00:06<00:37, 44.69it/s]\u001b[A\n",
      "Processed prompts:   6%|▌         | 101/1766 [00:06<00:36, 45.40it/s]\u001b[A\n",
      "Processed prompts:   6%|▌         | 109/1766 [00:07<00:36, 45.85it/s]\u001b[A\n",
      "Processed prompts:   7%|▋         | 120/1766 [00:07<00:34, 47.59it/s]\u001b[A\n",
      "Processed prompts:   7%|▋         | 130/1766 [00:07<00:34, 47.39it/s]\u001b[A\n",
      "Processed prompts:   8%|▊         | 142/1766 [00:07<00:32, 49.99it/s]\u001b[A\n",
      "Processed prompts:   8%|▊         | 149/1766 [00:07<00:33, 47.85it/s]\u001b[A\n",
      "Processed prompts:   9%|▊         | 154/1766 [00:08<00:35, 45.24it/s]\u001b[A\n",
      "Processed prompts:   9%|▉         | 165/1766 [00:08<00:33, 47.29it/s]\u001b[A\n",
      "Processed prompts:  10%|▉         | 173/1766 [00:08<00:33, 47.31it/s]\u001b[A\n",
      "Processed prompts:  10%|█         | 178/1766 [00:08<00:35, 44.65it/s]\u001b[A\n",
      "Processed prompts:  10%|█         | 184/1766 [00:08<00:37, 42.73it/s]\u001b[A\n",
      "Processed prompts:  11%|█         | 191/1766 [00:08<00:36, 43.53it/s]\u001b[A\n",
      "Processed prompts:  11%|█         | 197/1766 [00:09<00:37, 42.30it/s]\u001b[A\n",
      "Processed prompts:  12%|█▏        | 205/1766 [00:09<00:35, 43.93it/s]\u001b[A\n",
      "Processed prompts:  12%|█▏        | 210/1766 [00:09<00:37, 41.70it/s]\u001b[A\n",
      "Processed prompts:  12%|█▏        | 216/1766 [00:09<00:38, 39.78it/s]\u001b[A\n",
      "Processed prompts:  13%|█▎        | 224/1766 [00:09<00:36, 42.20it/s]\u001b[A\n",
      "Processed prompts:  13%|█▎        | 229/1766 [00:09<00:37, 40.69it/s]\u001b[A\n",
      "Processed prompts:  13%|█▎        | 234/1766 [00:09<00:39, 38.38it/s]\u001b[A\n",
      "Processed prompts:  13%|█▎        | 238/1766 [00:10<00:53, 28.37it/s]\u001b[A\n",
      "Processed prompts:  14%|█▎        | 242/1766 [00:10<01:05, 23.42it/s]\u001b[A\n",
      "Processed prompts:  14%|█▍        | 245/1766 [00:10<01:07, 22.57it/s]\u001b[A\n",
      "Processed prompts:  14%|█▍        | 249/1766 [00:10<01:02, 24.14it/s]\u001b[A\n",
      "Processed prompts:  14%|█▍        | 252/1766 [00:10<01:03, 23.71it/s]\u001b[A\n",
      "Processed prompts:  14%|█▍        | 255/1766 [00:11<01:04, 23.27it/s]\u001b[A\n",
      "Processed prompts:  15%|█▍        | 260/1766 [00:11<00:58, 25.76it/s]\u001b[A\n",
      "Processed prompts:  15%|█▌        | 265/1766 [00:11<00:54, 27.44it/s]\u001b[A\n",
      "Processed prompts:  15%|█▌        | 268/1766 [00:11<00:57, 26.06it/s]\u001b[A\n",
      "Processed prompts:  15%|█▌        | 273/1766 [00:11<00:53, 28.08it/s]\u001b[A\n",
      "Processed prompts:  16%|█▌        | 278/1766 [00:11<00:51, 29.11it/s]\u001b[A\n",
      "Processed prompts:  16%|█▌        | 282/1766 [00:11<00:50, 29.18it/s]\u001b[A\n",
      "Processed prompts:  16%|█▌        | 286/1766 [00:12<00:50, 29.20it/s]\u001b[A\n",
      "Processed prompts:  17%|█▋        | 293/1766 [00:12<00:44, 33.28it/s]\u001b[A\n",
      "Processed prompts:  17%|█▋        | 298/1766 [00:12<00:44, 32.66it/s]\u001b[A\n",
      "Processed prompts:  17%|█▋        | 302/1766 [00:12<00:46, 31.67it/s]\u001b[A\n",
      "Processed prompts:  18%|█▊        | 310/1766 [00:12<00:39, 36.77it/s]\u001b[A\n",
      "Processed prompts:  18%|█▊        | 319/1766 [00:12<00:34, 41.92it/s]\u001b[A\n",
      "Processed prompts:  19%|█▊        | 331/1766 [00:13<00:30, 46.98it/s]\u001b[A\n",
      "Processed prompts:  19%|█▉        | 336/1766 [00:13<00:32, 44.30it/s]\u001b[A\n",
      "Processed prompts:  19%|█▉        | 341/1766 [00:13<00:33, 42.15it/s]\u001b[A\n",
      "Processed prompts:  20%|█▉        | 346/1766 [00:13<00:35, 40.43it/s]\u001b[A\n",
      "Processed prompts:  20%|█▉        | 351/1766 [00:13<00:38, 36.86it/s]\u001b[A\n",
      "Processed prompts:  20%|██        | 355/1766 [00:13<00:40, 34.90it/s]\u001b[A\n",
      "Processed prompts:  20%|██        | 361/1766 [00:13<00:40, 35.07it/s]\u001b[A\n",
      "Processed prompts:  21%|██        | 367/1766 [00:14<00:38, 36.28it/s]\u001b[A\n",
      "Processed prompts:  21%|██        | 375/1766 [00:14<00:35, 39.69it/s]\u001b[A\n",
      "Processed prompts:  22%|██▏       | 388/1766 [00:14<00:29, 46.10it/s]\u001b[A\n",
      "Processed prompts:  23%|██▎       | 399/1766 [00:14<00:28, 47.97it/s]\u001b[A\n",
      "Processed prompts:  23%|██▎       | 405/1766 [00:14<00:29, 45.69it/s]\u001b[A\n",
      "Processed prompts:  24%|██▎       | 416/1766 [00:15<00:28, 47.63it/s]\u001b[A\n",
      "Processed prompts:  24%|██▍       | 427/1766 [00:15<00:27, 48.84it/s]\u001b[A\n",
      "Processed prompts:  24%|██▍       | 432/1766 [00:15<00:29, 45.82it/s]\u001b[A\n",
      "Processed prompts:  25%|██▍       | 437/1766 [00:15<00:31, 42.39it/s]\u001b[A\n",
      "Processed prompts:  25%|██▌       | 445/1766 [00:15<00:32, 41.11it/s]\u001b[A\n",
      "Processed prompts:  25%|██▌       | 450/1766 [00:15<00:32, 40.00it/s]\u001b[A\n",
      "Processed prompts:  26%|██▌       | 454/1766 [00:16<00:35, 37.23it/s]\u001b[A\n",
      "Processed prompts:  26%|██▌       | 460/1766 [00:16<00:35, 36.69it/s]\u001b[A\n",
      "Processed prompts:  26%|██▋       | 464/1766 [00:16<00:37, 34.85it/s]\u001b[A\n",
      "Processed prompts:  27%|██▋       | 468/1766 [00:16<00:40, 31.84it/s]\u001b[A\n",
      "Processed prompts:  27%|██▋       | 472/1766 [00:16<00:43, 29.82it/s]\u001b[A\n",
      "Processed prompts:  27%|██▋       | 477/1766 [00:16<00:41, 30.74it/s]\u001b[A\n",
      "Processed prompts:  27%|██▋       | 482/1766 [00:17<00:40, 31.40it/s]\u001b[A\n",
      "Processed prompts:  28%|██▊       | 487/1766 [00:17<00:40, 31.86it/s]\u001b[A\n",
      "Processed prompts:  28%|██▊       | 494/1766 [00:17<00:36, 34.91it/s]\u001b[A\n",
      "Processed prompts:  28%|██▊       | 503/1766 [00:17<00:33, 37.70it/s]\u001b[A\n",
      "Processed prompts:  29%|██▉       | 509/1766 [00:17<00:33, 38.08it/s]\u001b[A\n",
      "Processed prompts:  29%|██▉       | 513/1766 [00:17<00:35, 35.80it/s]\u001b[A\n",
      "Processed prompts:  29%|██▉       | 517/1766 [00:17<00:36, 34.02it/s]\u001b[A\n",
      "Processed prompts:  30%|██▉       | 524/1766 [00:18<00:33, 37.20it/s]\u001b[A\n",
      "Processed prompts:  30%|██▉       | 528/1766 [00:18<00:44, 27.85it/s]\u001b[A\n",
      "Processed prompts:  30%|███       | 534/1766 [00:18<00:41, 30.02it/s]\u001b[A\n",
      "Processed prompts:  30%|███       | 538/1766 [00:18<00:41, 29.81it/s]\u001b[A\n",
      "Processed prompts:  31%|███       | 545/1766 [00:18<00:36, 33.35it/s]\u001b[A\n",
      "Processed prompts:  31%|███       | 549/1766 [00:19<00:37, 32.12it/s]\u001b[A\n",
      "Processed prompts:  31%|███▏      | 555/1766 [00:19<00:35, 34.09it/s]\u001b[A\n",
      "Processed prompts:  32%|███▏      | 563/1766 [00:19<00:31, 38.21it/s]\u001b[A\n",
      "Processed prompts:  32%|███▏      | 572/1766 [00:19<00:37, 32.25it/s]\u001b[A\n",
      "Processed prompts:  33%|███▎      | 576/1766 [00:19<00:37, 31.67it/s]\u001b[A\n",
      "Processed prompts:  33%|███▎      | 586/1766 [00:20<00:32, 36.46it/s]\u001b[A\n",
      "Processed prompts:  33%|███▎      | 590/1766 [00:20<00:33, 34.84it/s]\u001b[A\n",
      "Processed prompts:  34%|███▎      | 595/1766 [00:20<00:34, 34.29it/s]\u001b[A\n",
      "Processed prompts:  34%|███▍      | 600/1766 [00:20<00:34, 33.83it/s]\u001b[A\n",
      "Processed prompts:  34%|███▍      | 608/1766 [00:20<00:30, 37.90it/s]\u001b[A\n",
      "Processed prompts:  35%|███▍      | 614/1766 [00:20<00:30, 37.91it/s]\u001b[A\n",
      "Processed prompts:  35%|███▌      | 619/1766 [00:20<00:31, 36.49it/s]\u001b[A\n",
      "Processed prompts:  35%|███▌      | 624/1766 [00:21<00:32, 34.94it/s]\u001b[A\n",
      "Processed prompts:  36%|███▌      | 632/1766 [00:21<00:29, 38.75it/s]\u001b[A\n",
      "Processed prompts:  36%|███▋      | 641/1766 [00:21<00:28, 40.04it/s]\u001b[A\n",
      "Processed prompts:  37%|███▋      | 652/1766 [00:21<00:25, 43.98it/s]\u001b[A\n",
      "Processed prompts:  37%|███▋      | 659/1766 [00:21<00:25, 43.34it/s]\u001b[A\n",
      "Processed prompts:  38%|███▊      | 667/1766 [00:22<00:24, 44.50it/s]\u001b[A\n",
      "Processed prompts:  38%|███▊      | 673/1766 [00:22<00:25, 43.08it/s]\u001b[A\n",
      "Processed prompts:  39%|███▊      | 680/1766 [00:22<00:25, 43.35it/s]\u001b[A\n",
      "Processed prompts:  39%|███▉      | 685/1766 [00:22<00:26, 41.57it/s]\u001b[A\n",
      "Processed prompts:  39%|███▉      | 694/1766 [00:22<00:25, 41.84it/s]\u001b[A\n",
      "Processed prompts:  40%|███▉      | 699/1766 [00:22<00:27, 39.38it/s]\u001b[A\n",
      "Processed prompts:  40%|███▉      | 704/1766 [00:23<00:28, 37.09it/s]\u001b[A\n",
      "Processed prompts:  40%|████      | 708/1766 [00:23<00:37, 28.02it/s]\u001b[A\n",
      "Processed prompts:  41%|████      | 717/1766 [00:23<00:32, 32.57it/s]\u001b[A\n",
      "Processed prompts:  41%|████      | 721/1766 [00:23<00:32, 31.70it/s]\u001b[A\n",
      "Processed prompts:  41%|████      | 725/1766 [00:23<00:34, 30.28it/s]\u001b[A\n",
      "Processed prompts:  41%|████▏     | 729/1766 [00:23<00:34, 30.00it/s]\u001b[A\n",
      "Processed prompts:  42%|████▏     | 735/1766 [00:24<00:31, 32.64it/s]\u001b[A\n",
      "Processed prompts:  42%|████▏     | 744/1766 [00:24<00:27, 36.50it/s]\u001b[A\n",
      "Processed prompts:  43%|████▎     | 751/1766 [00:24<00:26, 38.59it/s]\u001b[A\n",
      "Processed prompts:  43%|████▎     | 755/1766 [00:24<00:27, 36.18it/s]\u001b[A\n",
      "Processed prompts:  43%|████▎     | 762/1766 [00:24<00:26, 37.84it/s]\u001b[A\n",
      "Processed prompts:  43%|████▎     | 766/1766 [00:24<00:28, 35.52it/s]\u001b[A\n",
      "Processed prompts:  44%|████▎     | 770/1766 [00:25<00:29, 33.81it/s]\u001b[A\n",
      "Processed prompts:  44%|████▍     | 775/1766 [00:25<00:29, 33.56it/s]\u001b[A\n",
      "Processed prompts:  44%|████▍     | 780/1766 [00:25<00:30, 32.84it/s]\u001b[A\n",
      "Processed prompts:  44%|████▍     | 784/1766 [00:25<00:30, 31.79it/s]\u001b[A\n",
      "Processed prompts:  45%|████▍     | 789/1766 [00:25<00:30, 31.67it/s]\u001b[A\n",
      "Processed prompts:  45%|████▌     | 797/1766 [00:25<00:26, 36.75it/s]\u001b[A\n",
      "Processed prompts:  45%|████▌     | 802/1766 [00:25<00:27, 35.12it/s]\u001b[A\n",
      "Processed prompts:  46%|████▌     | 810/1766 [00:26<00:24, 38.95it/s]\u001b[A\n",
      "Processed prompts:  46%|████▋     | 819/1766 [00:26<00:21, 43.28it/s]\u001b[A\n",
      "Processed prompts:  47%|████▋     | 824/1766 [00:26<00:23, 39.68it/s]\u001b[A\n",
      "Processed prompts:  47%|████▋     | 829/1766 [00:26<00:24, 37.69it/s]\u001b[A\n",
      "Processed prompts:  47%|████▋     | 834/1766 [00:26<00:26, 35.78it/s]\u001b[A\n",
      "Processed prompts:  48%|████▊     | 839/1766 [00:26<00:26, 34.96it/s]\u001b[A\n",
      "Processed prompts:  48%|████▊     | 844/1766 [00:27<00:26, 34.37it/s]\u001b[A\n",
      "Processed prompts:  48%|████▊     | 849/1766 [00:27<00:27, 33.93it/s]\u001b[A\n",
      "Processed prompts:  49%|████▊     | 858/1766 [00:27<00:24, 37.03it/s]\u001b[A\n",
      "Processed prompts:  49%|████▉     | 862/1766 [00:27<00:25, 35.05it/s]\u001b[A\n",
      "Processed prompts:  49%|████▉     | 866/1766 [00:27<00:26, 33.49it/s]\u001b[A\n",
      "Processed prompts:  49%|████▉     | 873/1766 [00:27<00:24, 36.08it/s]\u001b[A\n",
      "Processed prompts:  50%|████▉     | 878/1766 [00:28<00:25, 35.14it/s]\u001b[A\n",
      "Processed prompts:  50%|█████     | 884/1766 [00:28<00:24, 36.27it/s]\u001b[A\n",
      "Processed prompts:  51%|█████     | 892/1766 [00:28<00:22, 39.72it/s]\u001b[A\n",
      "Processed prompts:  51%|█████     | 902/1766 [00:28<00:20, 42.33it/s]\u001b[A\n",
      "Processed prompts:  52%|█████▏    | 910/1766 [00:28<00:19, 43.77it/s]\u001b[A\n",
      "Processed prompts:  52%|█████▏    | 918/1766 [00:28<00:18, 44.83it/s]\u001b[A\n",
      "Processed prompts:  52%|█████▏    | 925/1766 [00:29<00:19, 43.82it/s]\u001b[A\n",
      "Processed prompts:  53%|█████▎    | 931/1766 [00:29<00:19, 42.47it/s]\u001b[A\n",
      "Processed prompts:  53%|█████▎    | 938/1766 [00:29<00:19, 42.09it/s]\u001b[A\n",
      "Processed prompts:  54%|█████▎    | 945/1766 [00:29<00:19, 41.91it/s]\u001b[A\n",
      "Processed prompts:  54%|█████▍    | 950/1766 [00:29<00:20, 40.50it/s]\u001b[A\n",
      "Processed prompts:  54%|█████▍    | 956/1766 [00:29<00:20, 39.00it/s]\u001b[A\n",
      "Processed prompts:  54%|█████▍    | 961/1766 [00:30<00:21, 36.69it/s]\u001b[A\n",
      "Processed prompts:  55%|█████▍    | 967/1766 [00:30<00:21, 37.38it/s]\u001b[A\n",
      "Processed prompts:  55%|█████▍    | 971/1766 [00:30<00:22, 35.16it/s]\u001b[A\n",
      "Processed prompts:  55%|█████▌    | 980/1766 [00:30<00:20, 37.82it/s]\u001b[A\n",
      "Processed prompts:  56%|█████▌    | 984/1766 [00:30<00:21, 35.74it/s]\u001b[A\n",
      "Processed prompts:  56%|█████▌    | 988/1766 [00:30<00:23, 32.54it/s]\u001b[A\n",
      "Processed prompts:  56%|█████▋    | 996/1766 [00:31<00:20, 37.12it/s]\u001b[A\n",
      "Processed prompts:  57%|█████▋    | 1002/1766 [00:31<00:20, 37.72it/s]\u001b[A\n",
      "Processed prompts:  57%|█████▋    | 1007/1766 [00:31<00:21, 35.82it/s]\u001b[A\n",
      "Processed prompts:  57%|█████▋    | 1013/1766 [00:31<00:20, 36.69it/s]\u001b[A\n",
      "Processed prompts:  58%|█████▊    | 1017/1766 [00:31<00:21, 34.70it/s]\u001b[A\n",
      "Processed prompts:  58%|█████▊    | 1021/1766 [00:31<00:22, 33.10it/s]\u001b[A\n",
      "Processed prompts:  58%|█████▊    | 1027/1766 [00:31<00:21, 33.93it/s]\u001b[A\n",
      "Processed prompts:  58%|█████▊    | 1032/1766 [00:32<00:21, 33.62it/s]\u001b[A\n",
      "Processed prompts:  59%|█████▉    | 1038/1766 [00:32<00:20, 35.30it/s]\u001b[A\n",
      "Processed prompts:  59%|█████▉    | 1043/1766 [00:32<00:21, 34.02it/s]\u001b[A\n",
      "Processed prompts:  60%|█████▉    | 1052/1766 [00:32<00:17, 40.05it/s]\u001b[A\n",
      "Processed prompts:  60%|█████▉    | 1059/1766 [00:32<00:16, 41.62it/s]\u001b[A\n",
      "Processed prompts:  60%|██████    | 1066/1766 [00:32<00:16, 42.75it/s]\u001b[A\n",
      "Processed prompts:  61%|██████    | 1071/1766 [00:33<00:16, 41.28it/s]\u001b[A\n",
      "Processed prompts:  61%|██████    | 1076/1766 [00:33<00:22, 31.30it/s]\u001b[A\n",
      "Processed prompts:  61%|██████▏   | 1082/1766 [00:33<00:20, 33.31it/s]\u001b[A\n",
      "Processed prompts:  62%|██████▏   | 1087/1766 [00:33<00:20, 33.16it/s]\u001b[A\n",
      "Processed prompts:  62%|██████▏   | 1094/1766 [00:33<00:24, 27.44it/s]\u001b[A\n",
      "Processed prompts:  63%|██████▎   | 1105/1766 [00:34<00:19, 34.53it/s]\u001b[A\n",
      "Processed prompts:  63%|██████▎   | 1109/1766 [00:34<00:19, 33.34it/s]\u001b[A\n",
      "Processed prompts:  63%|██████▎   | 1113/1766 [00:34<00:20, 31.16it/s]\u001b[A\n",
      "Processed prompts:  63%|██████▎   | 1117/1766 [00:34<00:21, 30.53it/s]\u001b[A\n",
      "Processed prompts:  64%|██████▍   | 1126/1766 [00:34<00:18, 34.62it/s]\u001b[A\n",
      "Processed prompts:  64%|██████▍   | 1130/1766 [00:34<00:19, 33.27it/s]\u001b[A\n",
      "Processed prompts:  64%|██████▍   | 1138/1766 [00:35<00:16, 37.40it/s]\u001b[A\n",
      "Processed prompts:  65%|██████▍   | 1143/1766 [00:35<00:17, 35.54it/s]\u001b[A\n",
      "Processed prompts:  66%|██████▌   | 1159/1766 [00:35<00:12, 47.86it/s]\u001b[A\n",
      "Processed prompts:  66%|██████▌   | 1164/1766 [00:35<00:13, 43.96it/s]\u001b[A\n",
      "Processed prompts:  66%|██████▌   | 1169/1766 [00:35<00:14, 40.42it/s]\u001b[A\n",
      "Processed prompts:  66%|██████▋   | 1174/1766 [00:35<00:15, 37.84it/s]\u001b[A\n",
      "Processed prompts:  67%|██████▋   | 1179/1766 [00:36<00:16, 35.96it/s]\u001b[A\n",
      "Processed prompts:  67%|██████▋   | 1185/1766 [00:36<00:15, 36.86it/s]\u001b[A\n",
      "Processed prompts:  68%|██████▊   | 1195/1766 [00:36<00:14, 40.51it/s]\u001b[A\n",
      "Processed prompts:  68%|██████▊   | 1201/1766 [00:36<00:14, 39.79it/s]\u001b[A\n",
      "Processed prompts:  69%|██████▊   | 1210/1766 [00:36<00:12, 43.71it/s]\u001b[A\n",
      "Processed prompts:  69%|██████▉   | 1216/1766 [00:36<00:12, 42.49it/s]\u001b[A\n",
      "Processed prompts:  69%|██████▉   | 1221/1766 [00:37<00:13, 40.92it/s]\u001b[A\n",
      "Processed prompts:  69%|██████▉   | 1226/1766 [00:37<00:14, 38.03it/s]\u001b[A\n",
      "Processed prompts:  70%|██████▉   | 1232/1766 [00:37<00:14, 37.24it/s]\u001b[A\n",
      "Processed prompts:  70%|██████▉   | 1236/1766 [00:37<00:15, 35.23it/s]\u001b[A\n",
      "Processed prompts:  70%|███████   | 1240/1766 [00:37<00:15, 33.56it/s]\u001b[A\n",
      "Processed prompts:  70%|███████   | 1244/1766 [00:37<00:16, 30.89it/s]\u001b[A\n",
      "Processed prompts:  71%|███████   | 1248/1766 [00:38<00:17, 29.08it/s]\u001b[A\n",
      "Processed prompts:  71%|███████   | 1254/1766 [00:38<00:15, 32.06it/s]\u001b[A\n",
      "Processed prompts:  71%|███████   | 1258/1766 [00:38<00:16, 31.42it/s]\u001b[A\n",
      "Processed prompts:  71%|███████▏  | 1262/1766 [00:38<00:16, 29.77it/s]\u001b[A\n",
      "Processed prompts:  72%|███████▏  | 1267/1766 [00:38<00:16, 30.23it/s]\u001b[A\n",
      "Processed prompts:  72%|███████▏  | 1274/1766 [00:38<00:14, 34.53it/s]\u001b[A\n",
      "Processed prompts:  72%|███████▏  | 1278/1766 [00:38<00:14, 32.82it/s]\u001b[A\n",
      "Processed prompts:  73%|███████▎  | 1284/1766 [00:39<00:14, 34.33it/s]\u001b[A\n",
      "Processed prompts:  73%|███████▎  | 1291/1766 [00:39<00:12, 36.60it/s]\u001b[A\n",
      "Processed prompts:  73%|███████▎  | 1295/1766 [00:39<00:13, 34.51it/s]\u001b[A\n",
      "Processed prompts:  74%|███████▎  | 1299/1766 [00:39<00:14, 33.03it/s]\u001b[A\n",
      "Processed prompts:  74%|███████▍  | 1305/1766 [00:39<00:13, 34.53it/s]\u001b[A\n",
      "Processed prompts:  74%|███████▍  | 1309/1766 [00:39<00:13, 33.01it/s]\u001b[A\n",
      "Processed prompts:  74%|███████▍  | 1314/1766 [00:39<00:13, 32.94it/s]\u001b[A\n",
      "Processed prompts:  75%|███████▍  | 1322/1766 [00:40<00:11, 37.56it/s]\u001b[A\n",
      "Processed prompts:  75%|███████▌  | 1326/1766 [00:40<00:12, 35.20it/s]\u001b[A\n",
      "Processed prompts:  75%|███████▌  | 1330/1766 [00:40<00:12, 33.62it/s]\u001b[A\n",
      "Processed prompts:  76%|███████▌  | 1334/1766 [00:40<00:13, 31.19it/s]\u001b[A\n",
      "Processed prompts:  76%|███████▌  | 1346/1766 [00:40<00:10, 40.60it/s]\u001b[A\n",
      "Processed prompts:  77%|███████▋  | 1357/1766 [00:41<00:09, 44.49it/s]\u001b[A\n",
      "Processed prompts:  77%|███████▋  | 1362/1766 [00:41<00:09, 42.55it/s]\u001b[A\n",
      "Processed prompts:  77%|███████▋  | 1367/1766 [00:41<00:10, 39.30it/s]\u001b[A\n",
      "Processed prompts:  78%|███████▊  | 1377/1766 [00:41<00:09, 41.94it/s]\u001b[A\n",
      "Processed prompts:  79%|███████▊  | 1387/1766 [00:41<00:08, 43.63it/s]\u001b[A\n",
      "Processed prompts:  79%|███████▉  | 1393/1766 [00:41<00:08, 42.42it/s]\u001b[A\n",
      "Processed prompts:  80%|███████▉  | 1406/1766 [00:42<00:07, 47.53it/s]\u001b[A\n",
      "Processed prompts:  80%|████████  | 1415/1766 [00:42<00:07, 49.05it/s]\u001b[A\n",
      "Processed prompts:  80%|████████  | 1420/1766 [00:42<00:07, 44.88it/s]\u001b[A\n",
      "Processed prompts:  81%|████████  | 1429/1766 [00:42<00:07, 43.97it/s]\u001b[A\n",
      "Processed prompts:  81%|████████▏ | 1439/1766 [00:42<00:07, 44.98it/s]\u001b[A\n",
      "Processed prompts:  82%|████████▏ | 1446/1766 [00:43<00:07, 44.08it/s]\u001b[A\n",
      "Processed prompts:  82%|████████▏ | 1451/1766 [00:43<00:07, 42.36it/s]\u001b[A\n",
      "Processed prompts:  82%|████████▏ | 1456/1766 [00:43<00:09, 31.81it/s]\u001b[A\n",
      "Processed prompts:  83%|████████▎ | 1461/1766 [00:43<00:09, 31.69it/s]\u001b[A\n",
      "Processed prompts:  83%|████████▎ | 1465/1766 [00:43<00:09, 31.18it/s]\u001b[A\n",
      "Processed prompts:  83%|████████▎ | 1469/1766 [00:43<00:09, 30.82it/s]\u001b[A\n",
      "Processed prompts:  83%|████████▎ | 1473/1766 [00:44<00:10, 29.15it/s]\u001b[A\n",
      "Processed prompts:  84%|████████▎ | 1476/1766 [00:44<00:11, 26.10it/s]\u001b[A\n",
      "Processed prompts:  84%|████████▍ | 1484/1766 [00:44<00:08, 32.63it/s]\u001b[A\n",
      "Processed prompts:  84%|████████▍ | 1492/1766 [00:44<00:07, 37.12it/s]\u001b[A\n",
      "Processed prompts:  85%|████████▍ | 1498/1766 [00:44<00:07, 37.68it/s]\u001b[A\n",
      "Processed prompts:  85%|████████▌ | 1502/1766 [00:44<00:07, 35.46it/s]\u001b[A\n",
      "Processed prompts:  85%|████████▌ | 1506/1766 [00:44<00:07, 33.60it/s]\u001b[A\n",
      "Processed prompts:  86%|████████▌ | 1510/1766 [00:45<00:07, 32.43it/s]\u001b[A\n",
      "Processed prompts:  86%|████████▌ | 1514/1766 [00:45<00:09, 26.26it/s]\u001b[A\n",
      "Processed prompts:  86%|████████▌ | 1521/1766 [00:45<00:08, 29.69it/s]\u001b[A\n",
      "Processed prompts:  87%|████████▋ | 1534/1766 [00:45<00:05, 42.18it/s]\u001b[A\n",
      "Processed prompts:  87%|████████▋ | 1544/1766 [00:45<00:04, 45.94it/s]\u001b[A\n",
      "Processed prompts:  88%|████████▊ | 1556/1766 [00:46<00:04, 52.05it/s]\u001b[A\n",
      "Processed prompts:  89%|████████▊ | 1567/1766 [00:46<00:03, 54.80it/s]\u001b[A\n",
      "Processed prompts:  90%|████████▉ | 1584/1766 [00:46<00:02, 69.91it/s]\u001b[A\n",
      "Processed prompts:  90%|█████████ | 1595/1766 [00:46<00:02, 60.01it/s]\u001b[A\n",
      "Processed prompts:  91%|█████████▏| 1613/1766 [00:46<00:02, 76.11it/s]\u001b[A\n",
      "Processed prompts:  92%|█████████▏| 1625/1766 [00:46<00:01, 78.02it/s]\u001b[A\n",
      "Processed prompts:  93%|█████████▎| 1640/1766 [00:47<00:01, 87.99it/s]\u001b[A\n",
      "Processed prompts:  94%|█████████▎| 1652/1766 [00:47<00:01, 94.79it/s]\u001b[A\n",
      "Processed prompts:  94%|█████████▍| 1665/1766 [00:47<00:01, 92.90it/s]\u001b[A\n",
      "Processed prompts:  96%|█████████▌| 1688/1766 [00:47<00:00, 113.59it/s]\u001b[A\n",
      "Processed prompts:  97%|█████████▋| 1705/1766 [00:47<00:00, 116.38it/s]\u001b[A\n",
      "Processed prompts:  97%|█████████▋| 1717/1766 [00:47<00:00, 110.61it/s]\u001b[A\n",
      "Processed prompts:  98%|█████████▊| 1729/1766 [00:47<00:00, 98.25it/s] \u001b[A\n",
      "Processed prompts:  99%|█████████▊| 1741/1766 [00:48<00:00, 100.46it/s]\u001b[A\n",
      "Processed prompts:  99%|█████████▉| 1752/1766 [00:48<00:00, 100.87it/s]\u001b[A\n",
      "Processed prompts: 100%|██████████| 1766/1766 [00:51<00:00, 34.22it/s] \u001b[A\n"
     ]
    },
    {
     "name": "stdout",
     "output_type": "stream",
     "text": [
      " The person moves their body from side to side in a rhythmic manner, with their arms and legs synchronized in perfect timing. Their movements are fluid and graceful, showcasing their coordination and skill.\n"
     ]
    }
   ],
   "source": [
    " gen_llm_dataset(val_dataset.load_db(), llm, sampling_params, split='vald')"
   ]
  },
  {
   "cell_type": "code",
   "execution_count": 5,
   "id": "1fc324cf-fbb3-4287-9717-97f517a8e6b6",
   "metadata": {},
   "outputs": [
    {
     "name": "stdout",
     "output_type": "stream",
     "text": [
      "datapath used by amass is [./data/babel_llm_1/babel_30fps_vald.pt]\n",
      "7647\n",
      "['dance', 'sideways movement', 'sway']\n"
     ]
    },
    {
     "name": "stderr",
     "output_type": "stream",
     "text": [
      "/home/rchivereanu/MotionCLIP/src/datasets/dataset.py:198: RuntimeWarning: divide by zero encountered in long_scalars\n",
      "  step_max = (nframes - 1) // (num_frames - 1)\n"
     ]
    }
   ],
   "source": [
    "gen_val_dataset = AMASS(clip_preprocess=clip_preprocess, datapath=\"./data/babel_llm_1/babel_30fps_db.pt\")\n",
    "print(len(gen_val_dataset))\n",
    "print(gen_val_dataset.__getitem__(0)['all_categories'])"
   ]
  },
  {
   "cell_type": "code",
   "execution_count": 10,
   "id": "5273f3c4-bf3f-4a47-acb1-17568350ce2c",
   "metadata": {},
   "outputs": [
    {
     "name": "stdout",
     "output_type": "stream",
     "text": [
      "1041\n"
     ]
    }
   ],
   "source": [
    "count = 0\n",
    "for entry in gen_val_dataset:\n",
    "    if 'all_categories'  not in entry:\n",
    "        count += 1\n",
    "print(count)"
   ]
  },
  {
   "cell_type": "code",
   "execution_count": 13,
   "id": "c716460c-5008-474a-bbc4-49a39dd22f42",
   "metadata": {},
   "outputs": [
    {
     "name": "stdout",
     "output_type": "stream",
     "text": [
      "datapath used by amass is [./data/babel/babel_30fps_vald.pt]\n",
      "7647\n"
     ]
    }
   ],
   "source": [
    "simple_val_dataset = AMASS(clip_preprocess=clip_preprocess, datapath=\"./data/babel/babel_30fps_db.pt\")\n",
    "print(len(simple_val_dataset))"
   ]
  },
  {
   "cell_type": "code",
   "execution_count": 14,
   "id": "01a4b1ed-2f3c-4834-9e01-5e8c1e535b55",
   "metadata": {},
   "outputs": [
    {
     "name": "stdout",
     "output_type": "stream",
     "text": [
      "datapath used by amass is [./data/babel_llm_1/babel_30fps_train.pt]\n"
     ]
    }
   ],
   "source": [
    "gen_train_dataset = AMASS(clip_preprocess=clip_preprocess, datapath=\"./data/babel_llm_1/babel_30fps_db.pt\", split=\"train\")"
   ]
  },
  {
   "cell_type": "code",
   "execution_count": 9,
   "id": "eda8f79e-b091-4a47-a110-ba2c020821de",
   "metadata": {},
   "outputs": [],
   "source": [
    "db_val = gen_val_dataset.load_db()"
   ]
  },
  {
   "cell_type": "code",
   "execution_count": 10,
   "id": "bbe00e31-5bc5-4736-90be-01727feea72f",
   "metadata": {},
   "outputs": [
    {
     "name": "stdout",
     "output_type": "stream",
     "text": [
      "dict_keys(['vid_names', 'thetas', 'joints3d', 'clip_images', 'clip_pathes', 'text_raw_labels', 'text_proc_labels', 'action_cat', 'clip_text'])\n"
     ]
    }
   ],
   "source": [
    "print(db_val.keys())"
   ]
  },
  {
   "cell_type": "code",
   "execution_count": 1,
   "id": "8705b928-60da-4540-bdf3-006fb6f6a1a6",
   "metadata": {},
   "outputs": [
    {
     "ename": "NameError",
     "evalue": "name 'gen_val_dataset' is not defined",
     "output_type": "error",
     "traceback": [
      "\u001b[0;31m---------------------------------------------------------------------------\u001b[0m",
      "\u001b[0;31mNameError\u001b[0m                                 Traceback (most recent call last)",
      "Cell \u001b[0;32mIn[1], line 1\u001b[0m\n\u001b[0;32m----> 1\u001b[0m \u001b[38;5;28mprint\u001b[39m(\u001b[43mgen_val_dataset\u001b[49m\u001b[38;5;241m.\u001b[39m_clip_texts[\u001b[38;5;241m1\u001b[39m])\n",
      "\u001b[0;31mNameError\u001b[0m: name 'gen_val_dataset' is not defined"
     ]
    }
   ],
   "source": [
    "print(gen_val_dataset._clip_texts[1])"
   ]
  },
  {
   "cell_type": "code",
   "execution_count": 18,
   "id": "71ecbcc7-999a-40dd-8d7b-9da10e4cb698",
   "metadata": {},
   "outputs": [
    {
     "name": "stdout",
     "output_type": "stream",
     "text": [
      "7647\n",
      " The person performing the action t-pose and transition stands with their feet shoulder-width apart and arms extended out to the sides. They move their right hand in space in front of their chest with a smooth transition, as if they are pointing or gesturing. Then, they transition to standing and move their left hand in space in front of their chest, continuing to gesture or point.\n",
      "\n",
      "Next, the person transitions back to standing and moves their right hand in space in front of their chest again, this time with a different gesture or movement. They then transition to standing and move their left hand in space in front of their chest, repeating the previous movement.\n",
      "\n",
      "The person then transitions back to standing and moves their right hand in space in front of their chest once more, this time with a different gesture or movement. They then transition to standing and move their left hand in space in front of their chest, repeating the previous movement.\n",
      "\n",
      "The person then transitions back to standing and moves both hands around their chest, this time with a different gesture or movement. They then transition to standing and extends their arms out in front of them, continuing to gesture or point.\n",
      "\n",
      "The person transitions back to standing and moves both hands around their chest once more, this time with a different gesture or movement. They then transition to standing and bends their arms at their chest, continuing to gesture or point.\n",
      "\n",
      "The person then transitions to standing and extends their arms out in front of them, this time with a different gesture or movement. They then transition to standing and transition to t-pose, this time with a different gesture or movement.\n",
      "\n",
      "The person transitions back to standing and moves their right hand in space in front of their chest, this time with a different gesture or movement. They then transition to standing and moves their left hand in space in front of their chest, repeating the previous movement.\n",
      "\n",
      "The person transitions back to standing and moves both hands around their chest, this time with a different gesture or movement. They then transition to standing and moves both hands around their chest once more, repeating the previous movement.\n",
      "\n",
      "The person transitions back to standing and moves both hands around their chest once more, this time with a different gesture or movement. They then transition to standing and waves their arms out at their side, this time with a different gesture or movement.\n",
      "\n",
      "The person then transitions back to standing and bends their arms at their chest, this time with a different gesture or movement. They then\n",
      "t-pose and transition and standing and transition and moves right hand in space in front of chest and transition and standing and transition and moves left hand in space in front of chest and transition and standing and transition and moves right hand in space in front of chest and transition and standing and transition and moves left hand in space in front of chest and transition and standing and transition and moves both hands around chest and transition and standing and transition and moves both hands around chest and transition and standing and transition and moves both hands around chest and transition and standing and transition and moves both hands around chest and transition and standing and transition and moves object from one hand to another and transition and standing and transition and moves object from one hand to another and transition and standing and bends arms at chest and transition and standing and extends arms out in front of them and transition and standing and transition and t-pose and transition and standing and transition and waves arms out at side and transition and standing and bends arms at chest and transition and standing and extends arms out in front of them and transition and standing and transition and t-pose and transition and standing and extends arms out in front of them and transition and standing and transition and moves right hand in space in front of chest and moves both hands around chest and moves right hand in space in front of chest and transition and standing\n"
     ]
    },
    {
     "name": "stderr",
     "output_type": "stream",
     "text": [
      "/home/rchivereanu/MotionCLIP/src/datasets/dataset.py:198: RuntimeWarning: divide by zero encountered in long_scalars\n",
      "  step_max = (nframes - 1) // (num_frames - 1)\n"
     ]
    }
   ],
   "source": [
    "print(len(gen_val_dataset._clip_texts))\n",
    "print(gen_val_dataset.__getitem__(5000)['clip_text'])\n",
    "print(simple_val_dataset.__getitem__(5000)['clip_text'])"
   ]
  },
  {
   "cell_type": "code",
   "execution_count": 19,
   "id": "6a7ef2d7-9337-4c37-895c-18296566bde0",
   "metadata": {},
   "outputs": [],
   "source": [
    "prompts = ['[INST] Describe a person’s body movements who is performing the actions {} in detail [/INST]'.format('sway')]"
   ]
  },
  {
   "cell_type": "code",
   "execution_count": 20,
   "id": "eafccc9b-6024-44c4-971f-ce15e72f3452",
   "metadata": {},
   "outputs": [
    {
     "name": "stderr",
     "output_type": "stream",
     "text": [
      "Processed prompts: 100%|██████████| 1/1 [00:05<00:00,  5.07s/it]"
     ]
    },
    {
     "name": "stdout",
     "output_type": "stream",
     "text": [
      " When a person sways, their body movements involve a subtle back-and-forth motion, generally starting from the hips and moving downwards through the legs, knees, and ankles. The person's feet may remain planted on the ground or may lift slightly off the ground as they sway. The arms may also be involved in the swaying motion, moving back and forth in time with the body's natural rhythm. The person's upper body, including the shoulders, chest, and head, may remain relatively still or may also sway gently in rhythm with the rest of the body. Overall, the swaying motion is typically a smooth, fluid movement that is easy to detect and often accompanied by music or other forms of rhythmic stimulation.\n"
     ]
    },
    {
     "name": "stderr",
     "output_type": "stream",
     "text": [
      "\n"
     ]
    }
   ],
   "source": [
    "outputs = llm.generate(prompts, sampling_params)\n",
    "for output in outputs:\n",
    "    prompt = output.prompt\n",
    "    generated_text = output.outputs[0].text\n",
    "    print(generated_text)"
   ]
  },
  {
   "cell_type": "code",
   "execution_count": null,
   "id": "ba375840-27f3-45b5-807e-1116735e7b22",
   "metadata": {},
   "outputs": [],
   "source": []
  }
 ],
 "metadata": {
  "kernelspec": {
   "display_name": "motionclip",
   "language": "python",
   "name": "motionclip"
  },
  "language_info": {
   "codemirror_mode": {
    "name": "ipython",
    "version": 3
   },
   "file_extension": ".py",
   "mimetype": "text/x-python",
   "name": "python",
   "nbconvert_exporter": "python",
   "pygments_lexer": "ipython3",
   "version": "3.8.11"
  }
 },
 "nbformat": 4,
 "nbformat_minor": 5
}
